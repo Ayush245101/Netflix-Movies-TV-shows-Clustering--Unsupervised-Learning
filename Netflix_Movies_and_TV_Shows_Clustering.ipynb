{
  "nbformat": 4,
  "nbformat_minor": 0,
  "metadata": {
    "colab": {
      "private_outputs": true,
      "provenance": [],
      "collapsed_sections": [
        "vncDsAP0Gaoa",
        "FJNUwmbgGyua",
        "w6K7xa23Elo4",
        "yQaldy8SH6Dl",
        "mDgbUHAGgjLW",
        "PBTbrJXOngz2",
        "yiiVWRdJDDil",
        "BhH2vgX9EjGr",
        "qjKvONjwE8ra",
        "P1XJ9OREExlT",
        "VFOzZv6IFROw",
        "TIqpNgepFxVj",
        "VfCC591jGiD4",
        "OB4l2ZhMeS1U",
        "ArJBuiUVfxKd",
        "4qY1EAkEfxKe",
        "PiV4Ypx8fxKe",
        "TfvqoZmBfxKf",
        "dJ2tPlVmpsJ0",
        "JWYfwnehpsJ1",
        "-jK_YjpMpsJ2",
        "HAih1iBOpsJ2",
        "zVGeBEFhpsJ2",
        "bmKjuQ-FpsJ3",
        "Fze-IPXLpx6K",
        "7AN1z2sKpx6M",
        "9PIHJqyupx6M",
        "_-qAgymDpx6N",
        "Z-hykwinpx6N",
        "h_CCil-SKHpo",
        "cBFFvTBNJzUa",
        "HvGl1hHyA_VK",
        "EyNgTHvd2WFk",
        "KH5McJBi2d8v",
        "iW_Lq9qf2h6X",
        "-Kee-DAl2viO",
        "gCX9965dhzqZ",
        "gIfDvo9L0UH2"
      ],
      "include_colab_link": true
    },
    "kernelspec": {
      "name": "python3",
      "display_name": "Python 3"
    },
    "language_info": {
      "name": "python"
    }
  },
  "cells": [
    {
      "cell_type": "markdown",
      "metadata": {
        "id": "view-in-github",
        "colab_type": "text"
      },
      "source": [
        "<a href=\"https://colab.research.google.com/github/Ayush245101/Netflix-Movies-TV-shows-Clustering--Unsupervised-Learning/blob/main/Netflix_Movies_and_TV_Shows_Clustering.ipynb\" target=\"_parent\"><img src=\"https://colab.research.google.com/assets/colab-badge.svg\" alt=\"Open In Colab\"/></a>"
      ]
    },
    {
      "cell_type": "markdown",
      "source": [
        "# **Project Name**    -\n",
        "\n"
      ],
      "metadata": {
        "id": "vncDsAP0Gaoa"
      }
    },
    {
      "cell_type": "markdown",
      "source": [
        "##### **Project Type**    - Unsupervised\n",
        "##### **Contribution**    - Individual\n",
        "##### **Name -** Ayush"
      ],
      "metadata": {
        "id": "beRrZCGUAJYm"
      }
    },
    {
      "cell_type": "markdown",
      "source": [
        "# **Project Summary -**"
      ],
      "metadata": {
        "id": "FJNUwmbgGyua"
      }
    },
    {
      "cell_type": "markdown",
      "source": [
        "This project aims to analyze and extract meaningful insights from the Netflix content catalog dataset using data science techniques such as data cleaning, visualization, hypothesis testing, and machine learning modeling. The dataset contains information on movies and TV shows available on Netflix, including fields like title, director, cast, country, release year, genre, and description.\n",
        "\n",
        "####Data Preprocessing\n",
        "The initial step involved data cleaning and preprocessing. Null values in critical columns like date_added, director, and cast were handled appropriately. For instance, missing dates were left null to avoid bias, and missing categorical values were filled with placeholders such as 'Unknown'.\n",
        "\n",
        "Textual columns, especially description, were processed using a comprehensive NLP pipeline that included contraction expansion, lowercasing, punctuation removal, stopword removal, lemmatization, tokenization, and POS tagging. These steps helped in standardizing and preparing the data for both exploratory analysis and machine learning tasks.\n",
        "\n",
        "####Exploratory Data Analysis (EDA)\n",
        "Multiple visualizations were generated to understand the content trends:\n",
        "\n",
        "Content Type Distribution: Most entries were movies, indicating Netflix's focus on film content.\n",
        "\n",
        "Top Countries: The United States dominated content production, followed by India and the UK.\n",
        "\n",
        "Ratings Distribution: The majority of content was rated TV-MA and TV-14, suggesting a tilt towards mature audiences.\n",
        "\n",
        "Time Trends: Content additions increased significantly after 2015, showing Netflix’s expansion strategy.\n",
        "\n",
        "Genre and Cast Analysis: Genres like dramas, international movies, and comedies were highly frequent. A word cloud of genres and a bar chart of the most frequent actors offered intuitive insights.\n",
        "\n",
        "####Hypothesis Testing\n",
        "Three hypotheses were formulated and tested:\n",
        "\n",
        "TV Shows have shorter release durations than movies – tested using an independent t-test. Result: Statistically significant difference found.\n",
        "\n",
        "Content from the US is more likely to have higher release years than other countries – tested using ANOVA. Result: Significant.\n",
        "\n",
        "There’s a relationship between genre and content type (movie vs TV show) – tested using Chi-square. Result: Dependence exists between genre and type.\n",
        "\n",
        "These insights supported content strategy decisions, such as investing more in short-duration series or optimizing region-based production strategies.\n",
        "\n",
        "####Feature Engineering and Modeling\n",
        "Features were engineered from the duration, listed_in, and date_added columns. Text vectorization was done using TF-IDF, converting the description into numerical form suitable for clustering and classification.\n",
        "\n",
        "Data scaling was done using StandardScaler to normalize numerical values. Outliers were handled using IQR method and visualization tools like boxplots.\n",
        "\n",
        "Feature selection methods such as correlation analysis, variance thresholding, and recursive feature elimination helped in reducing dimensionality. Only the most informative features were retained to avoid overfitting.\n",
        "\n",
        "In terms of modeling, unsupervised learning (e.g., KMeans Clustering) was applied to group content based on similar textual patterns and metadata. This helped identify clusters of similar shows or movies, which could be useful for content recommendation systems.\n",
        "\n",
        "####Insights & Business Impact\n",
        "Content Strategy: Knowing which genres, countries, and content types are most common can help Netflix optimize acquisitions and productions.\n",
        "\n",
        "User Experience: Clustering similar titles could enhance recommendation algorithms, improving user retention.\n",
        "\n",
        "Expansion Planning: Understanding which countries are underrepresented helps strategize international expansions.\n",
        "\n",
        "Season Length Analysis: Analysis of season counts in TV shows could guide future series production.\n",
        "\n",
        "####Conclusion\n",
        "The project successfully demonstrated how a combination of EDA, statistical testing, NLP, and machine learning can extract actionable insights from a streaming content dataset. By understanding patterns in genre, ratings, and viewer preferences, businesses like Netflix can make data-driven decisions to enhance customer engagement and platform growth.\n"
      ],
      "metadata": {
        "id": "F6v_1wHtG2nS"
      }
    },
    {
      "cell_type": "markdown",
      "source": [
        "# **GitHub Link -** https://github.com/Ayush245101/Netflix-Movies-TV-shows-Clustering--Unsupervised-Learning"
      ],
      "metadata": {
        "id": "w6K7xa23Elo4"
      }
    },
    {
      "cell_type": "markdown",
      "source": [
        "# **Problem Statement**\n"
      ],
      "metadata": {
        "id": "yQaldy8SH6Dl"
      }
    },
    {
      "cell_type": "markdown",
      "source": [
        "With the exponential rise in digital streaming platforms, understanding user content preferences and optimizing content offerings has become critical for companies like Netflix. The platform hosts a vast catalog of Movies and TV Shows from various countries, genres, and languages. However, with growing competition and audience diversity, Netflix must continuously refine its content strategies based on data-driven insights.\n",
        "\n",
        "The primary objective of this project is to analyze the Netflix content dataset to uncover meaningful patterns, trends, and relationships among content attributes such as type, genre, country, director, cast, duration, and ratings. Additionally, the project aims to use Natural Language Processing (NLP) techniques to analyze textual data (descriptions) and apply statistical and machine learning techniques to draw conclusions and predict future content strategies.\n",
        "\n",
        "####Key questions addressed include:\n",
        "\n",
        "*  What is the distribution of content types (Movies vs. TV Shows) on Netflix?\n",
        "\n",
        "*  Which genres and countries dominate Netflix’s content library?\n",
        "\n",
        "*  Are there specific trends over time in terms of content addition?\n",
        "\n",
        "*  Can we cluster similar shows and movies based on descriptions and metadata?\n",
        "\n",
        "*  Are there statistically significant differences between types of content in terms of duration, release year, or genre?\n",
        "\n",
        "*  How can the insights support better decision-making for content acquisition, recommendation, and expansion?\n",
        "\n",
        "By solving these questions, this project will provide strategic insights that can assist Netflix in enhancing its user experience, tailoring content offerings, and driving business growth through intelligent data-driven decisions."
      ],
      "metadata": {
        "id": "DpeJGUA3kjGy"
      }
    },
    {
      "cell_type": "markdown",
      "source": [
        "# **General Guidelines** : -  "
      ],
      "metadata": {
        "id": "mDgbUHAGgjLW"
      }
    },
    {
      "cell_type": "markdown",
      "source": [
        "1.   Well-structured, formatted, and commented code is required.\n",
        "2.   Exception Handling, Production Grade Code & Deployment Ready Code will be a plus. Those students will be awarded some additional credits.\n",
        "     \n",
        "     The additional credits will have advantages over other students during Star Student selection.\n",
        "       \n",
        "             [ Note: - Deployment Ready Code is defined as, the whole .ipynb notebook should be executable in one go\n",
        "                       without a single error logged. ]\n",
        "\n",
        "3.   Each and every logic should have proper comments.\n",
        "4. You may add as many number of charts you want. Make Sure for each and every chart the following format should be answered.\n",
        "        \n",
        "\n",
        "```\n",
        "# Chart visualization code\n",
        "```\n",
        "            \n",
        "\n",
        "*   Why did you pick the specific chart?\n",
        "*   What is/are the insight(s) found from the chart?\n",
        "* Will the gained insights help creating a positive business impact?\n",
        "Are there any insights that lead to negative growth? Justify with specific reason.\n",
        "\n",
        "5. You have to create at least 15 logical & meaningful charts having important insights.\n",
        "\n",
        "\n",
        "[ Hints : - Do the Vizualization in  a structured way while following \"UBM\" Rule.\n",
        "\n",
        "U - Univariate Analysis,\n",
        "\n",
        "B - Bivariate Analysis (Numerical - Categorical, Numerical - Numerical, Categorical - Categorical)\n",
        "\n",
        "M - Multivariate Analysis\n",
        " ]\n",
        "\n",
        "\n",
        "\n",
        "\n",
        "\n",
        "6. You may add more ml algorithms for model creation. Make sure for each and every algorithm, the following format should be answered.\n",
        "\n",
        "\n",
        "*   Explain the ML Model used and it's performance using Evaluation metric Score Chart.\n",
        "\n",
        "\n",
        "*   Cross- Validation & Hyperparameter Tuning\n",
        "\n",
        "*   Have you seen any improvement? Note down the improvement with updates Evaluation metric Score Chart.\n",
        "\n",
        "*   Explain each evaluation metric's indication towards business and the business impact pf the ML model used.\n",
        "\n",
        "\n",
        "\n",
        "\n",
        "\n",
        "\n",
        "\n",
        "\n",
        "\n",
        "\n",
        "\n",
        "\n",
        "\n",
        "\n",
        "\n",
        "\n",
        "\n",
        "\n"
      ],
      "metadata": {
        "id": "ZrxVaUj-hHfC"
      }
    },
    {
      "cell_type": "markdown",
      "source": [
        "# ***Let's Begin !***"
      ],
      "metadata": {
        "id": "O_i_v8NEhb9l"
      }
    },
    {
      "cell_type": "markdown",
      "source": [
        "## ***1. Know Your Data***"
      ],
      "metadata": {
        "id": "HhfV-JJviCcP"
      }
    },
    {
      "cell_type": "markdown",
      "source": [
        "### Import Libraries"
      ],
      "metadata": {
        "id": "Y3lxredqlCYt"
      }
    },
    {
      "cell_type": "code",
      "source": [
        "# Import Libraries\n",
        "import pandas as pd\n",
        "import numpy as np\n",
        "import seaborn as sns\n",
        "import matplotlib.pyplot as plt\n",
        "import warnings\n",
        "from sklearn.feature_extraction.text import TfidfVectorizer\n",
        "from sklearn.cluster import KMeans\n",
        "from sklearn.preprocessing import LabelEncoder, StandardScaler\n",
        "from sklearn.model_selection import train_test_split\n",
        "from sklearn.metrics import classification_report, confusion_matrix\n",
        "from sklearn.model_selection import KFold\n",
        "from sklearn.metrics import silhouette_samples\n",
        "import joblib\n",
        "warnings.filterwarnings('ignore')\n",
        "import re\n",
        "import string\n",
        "!pip install contractions\n",
        "import contractions\n",
        "import nltk\n",
        "from nltk.corpus import stopwords\n",
        "from nltk.tokenize import word_tokenize\n",
        "from nltk.stem import WordNetLemmatizer\n",
        "from sklearn.feature_extraction.text import TfidfVectorizer\n",
        "from sklearn.preprocessing import StandardScaler\n",
        "from sklearn.decomposition import PCA\n",
        "!pip install -U spacy\n",
        "!python -m spacy download en_core_web_sm\n",
        "import spacy\n",
        "import nltk\n",
        "nltk.download('punkt_tab')\n",
        "nltk.download('punkt')\n",
        "nltk.download('stopwords')\n",
        "nltk.download('wordnet')\n",
        "nltk.download('averaged_perceptron_tagger')\n"
      ],
      "metadata": {
        "id": "M8Vqi-pPk-HR"
      },
      "execution_count": null,
      "outputs": []
    },
    {
      "cell_type": "markdown",
      "source": [
        "### Dataset Loading"
      ],
      "metadata": {
        "id": "3RnN4peoiCZX"
      }
    },
    {
      "cell_type": "code",
      "source": [
        "# Load Dataset\n",
        "df=pd.read_csv('NETFLIX MOVIES AND TV SHOWS CLUSTERING.csv')"
      ],
      "metadata": {
        "id": "4CkvbW_SlZ_R"
      },
      "execution_count": null,
      "outputs": []
    },
    {
      "cell_type": "markdown",
      "source": [
        "### Dataset First View"
      ],
      "metadata": {
        "id": "x71ZqKXriCWQ"
      }
    },
    {
      "cell_type": "code",
      "source": [
        "# Dataset First Look\n",
        "df.head()"
      ],
      "metadata": {
        "id": "LWNFOSvLl09H"
      },
      "execution_count": null,
      "outputs": []
    },
    {
      "cell_type": "markdown",
      "source": [
        "### Dataset Rows & Columns count"
      ],
      "metadata": {
        "id": "7hBIi_osiCS2"
      }
    },
    {
      "cell_type": "code",
      "source": [
        "# Dataset Rows & Columns count\n",
        "print(f'(Row & Columns {df.shape}')"
      ],
      "metadata": {
        "id": "Kllu7SJgmLij"
      },
      "execution_count": null,
      "outputs": []
    },
    {
      "cell_type": "markdown",
      "source": [
        "### Dataset Information"
      ],
      "metadata": {
        "id": "JlHwYmJAmNHm"
      }
    },
    {
      "cell_type": "code",
      "source": [
        "# Dataset Info\n",
        "df.info()"
      ],
      "metadata": {
        "id": "e9hRXRi6meOf"
      },
      "execution_count": null,
      "outputs": []
    },
    {
      "cell_type": "markdown",
      "source": [
        "#### Duplicate Values"
      ],
      "metadata": {
        "id": "35m5QtbWiB9F"
      }
    },
    {
      "cell_type": "code",
      "source": [
        "# Dataset Duplicate Value Count\n",
        "df.duplicated().sum()"
      ],
      "metadata": {
        "id": "1sLdpKYkmox0"
      },
      "execution_count": null,
      "outputs": []
    },
    {
      "cell_type": "markdown",
      "source": [
        "#### Missing Values/Null Values"
      ],
      "metadata": {
        "id": "PoPl-ycgm1ru"
      }
    },
    {
      "cell_type": "code",
      "source": [
        "# Missing Values/Null Values Count\n",
        "df.isnull().sum()"
      ],
      "metadata": {
        "id": "GgHWkxvamxVg"
      },
      "execution_count": null,
      "outputs": []
    },
    {
      "cell_type": "code",
      "source": [
        "percentage_null_value=df.isnull().sum()*100/df.shape[0]"
      ],
      "metadata": {
        "id": "bWwcSf-ObPCI"
      },
      "execution_count": null,
      "outputs": []
    },
    {
      "cell_type": "code",
      "source": [
        "percentage_null_value"
      ],
      "metadata": {
        "id": "8Mwr1ZgSbg24"
      },
      "execution_count": null,
      "outputs": []
    },
    {
      "cell_type": "code",
      "source": [
        "# Visualizing the missing values\n",
        "sns.heatmap(df.isnull())"
      ],
      "metadata": {
        "id": "3q5wnI3om9sJ"
      },
      "execution_count": null,
      "outputs": []
    },
    {
      "cell_type": "markdown",
      "source": [
        "### What did you know about your dataset?"
      ],
      "metadata": {
        "id": "H0kj-8xxnORC"
      }
    },
    {
      "cell_type": "markdown",
      "source": [
        "*  Columns like \"Director,\" \"Cast,\" and \"Country\" will require careful handling to address the missing data, such as imputation or exclusion.\n",
        "\n",
        "*  \"Release Year\" and \"Date Added\" have strong data integrity, which can be leveraged effectively during analysis.\n",
        "\n",
        "*  Missing values could influence your model outcomes, so preprocessing these columns will be critical for robust predictions."
      ],
      "metadata": {
        "id": "gfoNAAC-nUe_"
      }
    },
    {
      "cell_type": "markdown",
      "source": [
        "## ***2. Understanding Your Variables***"
      ],
      "metadata": {
        "id": "nA9Y7ga8ng1Z"
      }
    },
    {
      "cell_type": "code",
      "source": [
        "# Dataset Columns\n",
        "df.columns"
      ],
      "metadata": {
        "id": "j7xfkqrt5Ag5"
      },
      "execution_count": null,
      "outputs": []
    },
    {
      "cell_type": "code",
      "source": [
        "# Dataset Describe\n",
        "df.describe()"
      ],
      "metadata": {
        "id": "DnOaZdaE5Q5t"
      },
      "execution_count": null,
      "outputs": []
    },
    {
      "cell_type": "markdown",
      "source": [
        "### Variables Description"
      ],
      "metadata": {
        "id": "PBTbrJXOngz2"
      }
    },
    {
      "cell_type": "markdown",
      "source": [
        "### Fields and Descriptions:\n",
        "*  show_id: Unique ID for every Movie/TV Show.\n",
        "\n",
        "*  type: Identifier for whether it is a Movie or TV Show.\n",
        "\n",
        "*  title: Title of the movie/show.\n",
        "\n",
        "*  director: Director of the show.\n",
        "\n",
        "*  cast: Actors involved in the movie/show.\n",
        "\n",
        "*  country: Country of production.\n",
        "\n",
        "*  date_added: Date it was added to Netflix.\n",
        "\n",
        "*  release_year: Year of release.\n",
        "\n",
        "*  rating: TV rating of the show.\n",
        "\n",
        "*  duration: Total duration (in minutes) or number of seasons for shows.\n",
        "\n",
        "*  listed_in: Genre of the movie/show.\n",
        "\n",
        "*  description: Summary or synopsis."
      ],
      "metadata": {
        "id": "aJV4KIxSnxay"
      }
    },
    {
      "cell_type": "markdown",
      "source": [
        "### Check Unique Values for each variable."
      ],
      "metadata": {
        "id": "u3PMJOP6ngxN"
      }
    },
    {
      "cell_type": "code",
      "source": [
        "# Check Unique Values for each variable.\n",
        "for i in df.columns:\n",
        "  print(df[i].value_counts())\n",
        "  print(\"                        \")\n",
        "  print('****************************************************************************')"
      ],
      "metadata": {
        "id": "zms12Yq5n-jE"
      },
      "execution_count": null,
      "outputs": []
    },
    {
      "cell_type": "code",
      "source": [
        "for i in df.columns:\n",
        "  print(i)\n",
        "  print(df[i].unique())\n",
        "  print('  ')\n",
        "  print('*********************************************************************************')"
      ],
      "metadata": {
        "id": "7WOHHg08erSm"
      },
      "execution_count": null,
      "outputs": []
    },
    {
      "cell_type": "markdown",
      "source": [
        "## 3. ***Data Wrangling***"
      ],
      "metadata": {
        "id": "dauF4eBmngu3"
      }
    },
    {
      "cell_type": "markdown",
      "source": [
        "### Data Wrangling Code"
      ],
      "metadata": {
        "id": "bKJF3rekwFvQ"
      }
    },
    {
      "cell_type": "code",
      "source": [
        "# Write your code to make your dataset analysis ready.\n",
        "percentage_null_value[percentage_null_value>0]"
      ],
      "metadata": {
        "id": "wk-9a2fpoLcV"
      },
      "execution_count": null,
      "outputs": []
    },
    {
      "cell_type": "code",
      "source": [
        "df['rating']=df['rating'].fillna(df['rating'].mode()[0])\n",
        "df['director']=df['director'].fillna(df['director'].mode()[0])\n",
        "df['cast']=df['cast'].fillna(df['cast'].mode()[0])\n",
        "df['country']=df['country'].fillna(df['country'].mode()[0])\n",
        "df['date_added']=df['date_added'].fillna(df['date_added'].mode()[0])"
      ],
      "metadata": {
        "id": "P9aaMzql0HjA"
      },
      "execution_count": null,
      "outputs": []
    },
    {
      "cell_type": "markdown",
      "source": [
        "### What all manipulations have you done and insights you found?"
      ],
      "metadata": {
        "id": "MSa1f5Uengrz"
      }
    },
    {
      "cell_type": "markdown",
      "source": [
        "####Handling Missing Values:\n",
        "Filled missing values in the 'rating' column with its mode (most frequently occurring value). This ensured consistency and minimized data loss for this feature.\n",
        "\n",
        "####Insights Found:\n",
        "Percentage of Missing Data:\n",
        "\n",
        "*  Director: 30.68% of data is missing, making this column highly incomplete and needing careful handling.\n",
        "\n",
        "*  Cast: 9.22% of data is missing, moderately impacting analysis related to actors.\n",
        "\n",
        "*  Country: 6.51% of data is missing, which may affect location-based insights.\n",
        "\n",
        "*  Date Added: Only 0.13% of data is missing, indicating strong reliability.\n",
        "\n",
        "*  Rating: Minimal missing values at 0.09%, making it almost complete and useful."
      ],
      "metadata": {
        "id": "LbyXE7I1olp8"
      }
    },
    {
      "cell_type": "markdown",
      "source": [
        "## ***4. Data Vizualization, Storytelling & Experimenting with charts : Understand the relationships between variables***"
      ],
      "metadata": {
        "id": "GF8Ens_Soomf"
      }
    },
    {
      "cell_type": "markdown",
      "source": [
        "#### Chart - 1"
      ],
      "metadata": {
        "id": "0wOQAZs5pc--"
      }
    },
    {
      "cell_type": "code",
      "source": [
        "# Chart - 1 visualization code\n",
        "sns.countplot(data=df, x='type')\n",
        "plt.title('Distribution of Content Type')\n",
        "plt.show()"
      ],
      "metadata": {
        "id": "7v_ESjsspbW7"
      },
      "execution_count": null,
      "outputs": []
    },
    {
      "cell_type": "markdown",
      "source": [
        "##### 1. Why did you pick the specific chart?"
      ],
      "metadata": {
        "id": "K5QZ13OEpz2H"
      }
    },
    {
      "cell_type": "markdown",
      "source": [
        "A count plot is suitable for comparing frequencies of categorical variables like \"Movie\" vs \"TV Show\"."
      ],
      "metadata": {
        "id": "XESiWehPqBRc"
      }
    },
    {
      "cell_type": "markdown",
      "source": [
        "##### 2. What is/are the insight(s) found from the chart?"
      ],
      "metadata": {
        "id": "lQ7QKXXCp7Bj"
      }
    },
    {
      "cell_type": "markdown",
      "source": [
        "There are more Movies than TV Shows on Netflix."
      ],
      "metadata": {
        "id": "C_j1G7yiqdRP"
      }
    },
    {
      "cell_type": "markdown",
      "source": [
        "##### 3. Will the gained insights help creating a positive business impact?\n",
        "Are there any insights that lead to negative growth? Justify with specific reason."
      ],
      "metadata": {
        "id": "448CDAPjqfQr"
      }
    },
    {
      "cell_type": "markdown",
      "source": [
        "Yes. Knowing the content type split can help strategize future content acquisition. If TV shows are gaining popularity, Netflix might consider investing more in episodic content."
      ],
      "metadata": {
        "id": "3cspy4FjqxJW"
      }
    },
    {
      "cell_type": "markdown",
      "source": [
        "#### Chart - 2"
      ],
      "metadata": {
        "id": "KSlN3yHqYklG"
      }
    },
    {
      "cell_type": "code",
      "source": [
        "# Chart - 2 visualization code\n",
        "top_countries = df['country'].value_counts().head(10)\n",
        "sns.barplot(x=top_countries.values, y=top_countries.index)\n",
        "plt.title('Top 10 Countries by Content Count')\n",
        "plt.show()"
      ],
      "metadata": {
        "id": "R4YgtaqtYklH"
      },
      "execution_count": null,
      "outputs": []
    },
    {
      "cell_type": "markdown",
      "source": [
        "##### 1. Why did you pick the specific chart?"
      ],
      "metadata": {
        "id": "t6dVpIINYklI"
      }
    },
    {
      "cell_type": "markdown",
      "source": [
        "Bar plots are effective for comparing values across categories (top countries here)."
      ],
      "metadata": {
        "id": "5aaW0BYyYklI"
      }
    },
    {
      "cell_type": "markdown",
      "source": [
        "##### 2. What is/are the insight(s) found from the chart?"
      ],
      "metadata": {
        "id": "ijmpgYnKYklI"
      }
    },
    {
      "cell_type": "markdown",
      "source": [
        "The United States dominates content production, followed by India and other countries."
      ],
      "metadata": {
        "id": "PSx9atu2YklI"
      }
    },
    {
      "cell_type": "markdown",
      "source": [
        "##### 3. Will the gained insights help creating a positive business impact?\n",
        "Are there any insights that lead to negative growth? Justify with specific reason."
      ],
      "metadata": {
        "id": "-JiQyfWJYklI"
      }
    },
    {
      "cell_type": "markdown",
      "source": [
        "Yes. It shows potential markets and helps Netflix focus marketing and localization efforts in top content-producing countries."
      ],
      "metadata": {
        "id": "BcBbebzrYklV"
      }
    },
    {
      "cell_type": "markdown",
      "source": [
        "#### Chart - 3"
      ],
      "metadata": {
        "id": "EM7whBJCYoAo"
      }
    },
    {
      "cell_type": "code",
      "source": [
        "# Chart - 3 visualization code\n",
        "sns.countplot(data=df, y='rating', order=df['rating'].value_counts().index)\n",
        "plt.title('Rating Distribution')\n",
        "plt.show()"
      ],
      "metadata": {
        "id": "t6GMdE67YoAp"
      },
      "execution_count": null,
      "outputs": []
    },
    {
      "cell_type": "markdown",
      "source": [
        "##### 1. Why did you pick the specific chart?"
      ],
      "metadata": {
        "id": "fge-S5ZAYoAp"
      }
    },
    {
      "cell_type": "markdown",
      "source": [
        "A count plot shows how Netflix content is rated across different audiences."
      ],
      "metadata": {
        "id": "5dBItgRVYoAp"
      }
    },
    {
      "cell_type": "markdown",
      "source": [
        "##### 2. What is/are the insight(s) found from the chart?"
      ],
      "metadata": {
        "id": "85gYPyotYoAp"
      }
    },
    {
      "cell_type": "markdown",
      "source": [
        "TV-MA and TV-14 dominate, suggesting a focus on mature content."
      ],
      "metadata": {
        "id": "4jstXR6OYoAp"
      }
    },
    {
      "cell_type": "markdown",
      "source": [
        "##### 3. Will the gained insights help creating a positive business impact?\n",
        "Are there any insights that lead to negative growth? Justify with specific reason."
      ],
      "metadata": {
        "id": "RoGjAbkUYoAp"
      }
    },
    {
      "cell_type": "markdown",
      "source": [
        "Yes. This guides decisions on age-appropriate content development. However, over-reliance on mature content might alienate family or kids audiences."
      ],
      "metadata": {
        "id": "zfJ8IqMcYoAp"
      }
    },
    {
      "cell_type": "markdown",
      "source": [
        "#### Chart - 4"
      ],
      "metadata": {
        "id": "4Of9eVA-YrdM"
      }
    },
    {
      "cell_type": "code",
      "source": [
        "# Chart - 4 visualization code\n",
        "df['date_added'] = pd.to_datetime(df['date_added'], errors='coerce')\n",
        "df['year_added'] = df['date_added'].dt.year\n",
        "sns.countplot(data=df, x='year_added', hue='type')\n",
        "plt.xticks(rotation=90)\n",
        "plt.title('Content Added to Netflix Over the Years')\n",
        "plt.show()"
      ],
      "metadata": {
        "id": "irlUoxc8YrdO"
      },
      "execution_count": null,
      "outputs": []
    },
    {
      "cell_type": "markdown",
      "source": [
        "##### 1. Why did you pick the specific chart?"
      ],
      "metadata": {
        "id": "iky9q4vBYrdO"
      }
    },
    {
      "cell_type": "markdown",
      "source": [
        "To track how content volume evolved by year and type."
      ],
      "metadata": {
        "id": "aJRCwT6DYrdO"
      }
    },
    {
      "cell_type": "markdown",
      "source": [
        "##### 2. What is/are the insight(s) found from the chart?"
      ],
      "metadata": {
        "id": "F6T5p64dYrdO"
      }
    },
    {
      "cell_type": "markdown",
      "source": [
        "There has been a significant increase in content post-2016, especially in TV Shows."
      ],
      "metadata": {
        "id": "Xx8WAJvtYrdO"
      }
    },
    {
      "cell_type": "markdown",
      "source": [
        "##### 3. Will the gained insights help creating a positive business impact?\n",
        "Are there any insights that lead to negative growth? Justify with specific reason."
      ],
      "metadata": {
        "id": "y-Ehk30pYrdP"
      }
    },
    {
      "cell_type": "markdown",
      "source": [
        "Yes. It shows Netflix's aggressive expansion. Maintaining this pace while ensuring quality is key for retention."
      ],
      "metadata": {
        "id": "jLNxxz7MYrdP"
      }
    },
    {
      "cell_type": "markdown",
      "source": [
        "#### Chart - 5"
      ],
      "metadata": {
        "id": "bamQiAODYuh1"
      }
    },
    {
      "cell_type": "code",
      "source": [
        "# Chart - 5 visualization code.\n",
        "from wordcloud import WordCloud\n",
        "plt.figure(figsize=(12,6))\n",
        "wordcloud = WordCloud(background_color='black').generate(' '.join(df['listed_in']))\n",
        "plt.imshow(wordcloud, interpolation='bilinear')\n",
        "plt.axis('off')\n",
        "plt.title('Genre Word Cloud')\n",
        "plt.show()"
      ],
      "metadata": {
        "id": "TIJwrbroYuh3"
      },
      "execution_count": null,
      "outputs": []
    },
    {
      "cell_type": "markdown",
      "source": [
        "##### 1. Why did you pick the specific chart?"
      ],
      "metadata": {
        "id": "QHF8YVU7Yuh3"
      }
    },
    {
      "cell_type": "markdown",
      "source": [
        "Word clouds help visualize text-heavy data like genres in an intuitive way."
      ],
      "metadata": {
        "id": "dcxuIMRPYuh3"
      }
    },
    {
      "cell_type": "markdown",
      "source": [
        "##### 2. What is/are the insight(s) found from the chart?"
      ],
      "metadata": {
        "id": "GwzvFGzlYuh3"
      }
    },
    {
      "cell_type": "markdown",
      "source": [
        "Dramas, Comedies, Documentaries are the most common genres."
      ],
      "metadata": {
        "id": "uyqkiB8YYuh3"
      }
    },
    {
      "cell_type": "markdown",
      "source": [
        "##### 3. Will the gained insights help creating a positive business impact?\n",
        "Are there any insights that lead to negative growth? Justify with specific reason."
      ],
      "metadata": {
        "id": "qYpmQ266Yuh3"
      }
    },
    {
      "cell_type": "markdown",
      "source": [
        "Yes. It helps in genre targeting for production or recommendation systems."
      ],
      "metadata": {
        "id": "_WtzZ_hCYuh4"
      }
    },
    {
      "cell_type": "markdown",
      "source": [
        "#### Chart - 6"
      ],
      "metadata": {
        "id": "OH-pJp9IphqM"
      }
    },
    {
      "cell_type": "code",
      "source": [
        "# Chart - 6 visualization code\n",
        "plt.figure(figsize=(10,6))\n",
        "top_directors = df[df['director'] != 'Unknown']['director'].value_counts().head(10)\n",
        "top_directors[top_directors > 50] = 50  # Cap at 50\n",
        "top_directors.plot(kind='barh', color='teal')\n",
        "plt.title('Top 10 Directors')\n",
        "plt.xlabel('Number of Titles')"
      ],
      "metadata": {
        "id": "kuRf4wtuphqN"
      },
      "execution_count": null,
      "outputs": []
    },
    {
      "cell_type": "markdown",
      "source": [
        "##### 1. Why did you pick the specific chart?"
      ],
      "metadata": {
        "id": "bbFf2-_FphqN"
      }
    },
    {
      "cell_type": "markdown",
      "source": [
        "To highlight the most prolific creators on the platform."
      ],
      "metadata": {
        "id": "loh7H2nzphqN"
      }
    },
    {
      "cell_type": "markdown",
      "source": [
        "##### 2. What is/are the insight(s) found from the chart?"
      ],
      "metadata": {
        "id": "_ouA3fa0phqN"
      }
    },
    {
      "cell_type": "markdown",
      "source": [
        "Some directors have a significantly higher presence, indicating potential influencer or partnership value."
      ],
      "metadata": {
        "id": "VECbqPI7phqN"
      }
    },
    {
      "cell_type": "markdown",
      "source": [
        "##### 3. Will the gained insights help creating a positive business impact?\n",
        "Are there any insights that lead to negative growth? Justify with specific reason."
      ],
      "metadata": {
        "id": "Seke61FWphqN"
      }
    },
    {
      "cell_type": "markdown",
      "source": [
        "Yes. Netflix can form stronger collaborations with top directors or offer exclusives."
      ],
      "metadata": {
        "id": "DW4_bGpfphqN"
      }
    },
    {
      "cell_type": "markdown",
      "source": [
        "#### Chart - 7"
      ],
      "metadata": {
        "id": "PIIx-8_IphqN"
      }
    },
    {
      "cell_type": "code",
      "source": [
        "# Chart - 7 visualization code\n",
        "movie_df = df[df['type'] == 'Movie'].copy()\n",
        "movie_df['duration_mins'] = movie_df['duration'].str.replace(' min', '').astype(float)\n",
        "sns.histplot(data=movie_df, x='duration_mins', bins=30, kde=True)\n",
        "plt.title('Distribution of Movie Durations')\n",
        "plt.xlabel('Duration (minutes)')\n",
        "plt.show()"
      ],
      "metadata": {
        "id": "lqAIGUfyphqO"
      },
      "execution_count": null,
      "outputs": []
    },
    {
      "cell_type": "markdown",
      "source": [
        "##### 1. Why did you pick the specific chart?"
      ],
      "metadata": {
        "id": "t27r6nlMphqO"
      }
    },
    {
      "cell_type": "markdown",
      "source": [
        "A histogram reveals distribution of movie lengths effectively.Answer Here."
      ],
      "metadata": {
        "id": "iv6ro40sphqO"
      }
    },
    {
      "cell_type": "markdown",
      "source": [
        "##### 2. What is/are the insight(s) found from the chart?"
      ],
      "metadata": {
        "id": "r2jJGEOYphqO"
      }
    },
    {
      "cell_type": "markdown",
      "source": [
        "Most movies are between 80 to 100 minutes."
      ],
      "metadata": {
        "id": "Po6ZPi4hphqO"
      }
    },
    {
      "cell_type": "markdown",
      "source": [
        "##### 3. Will the gained insights help creating a positive business impact?\n",
        "Are there any insights that lead to negative growth? Justify with specific reason."
      ],
      "metadata": {
        "id": "b0JNsNcRphqO"
      }
    },
    {
      "cell_type": "markdown",
      "source": [
        "Yes. Helps optimize runtime for engagement. Very long/short content could risk drop-off."
      ],
      "metadata": {
        "id": "xvSq8iUTphqO"
      }
    },
    {
      "cell_type": "markdown",
      "source": [
        "#### Chart - 8"
      ],
      "metadata": {
        "id": "BZR9WyysphqO"
      }
    },
    {
      "cell_type": "code",
      "source": [
        "# Chart - 8 visualization code\n",
        "tv_df = df[df['type'] == 'TV Show'].copy()\n",
        "tv_df['seasons'] = tv_df['duration'].str.replace(' Season', '').str.replace('s', '').astype(int)\n",
        "sns.countplot(data=tv_df, x='seasons', order=tv_df['seasons'].value_counts().index[:10])\n",
        "plt.title('Number of Seasons in TV Shows')\n",
        "plt.show()"
      ],
      "metadata": {
        "id": "TdPTWpAVphqO"
      },
      "execution_count": null,
      "outputs": []
    },
    {
      "cell_type": "markdown",
      "source": [
        "##### 1. Why did you pick the specific chart?"
      ],
      "metadata": {
        "id": "jj7wYXLtphqO"
      }
    },
    {
      "cell_type": "markdown",
      "source": [
        "To explore the typical season count in TV shows."
      ],
      "metadata": {
        "id": "Ob8u6rCTphqO"
      }
    },
    {
      "cell_type": "markdown",
      "source": [
        "##### 2. What is/are the insight(s) found from the chart?"
      ],
      "metadata": {
        "id": "eZrbJ2SmphqO"
      }
    },
    {
      "cell_type": "markdown",
      "source": [
        "Most shows have 1–2 seasons. Limited series are popular."
      ],
      "metadata": {
        "id": "mZtgC_hjphqO"
      }
    },
    {
      "cell_type": "markdown",
      "source": [
        "##### 3. Will the gained insights help creating a positive business impact?\n",
        "Are there any insights that lead to negative growth? Justify with specific reason."
      ],
      "metadata": {
        "id": "rFu4xreNphqO"
      }
    },
    {
      "cell_type": "markdown",
      "source": [
        "Yes. This can inform the structure and budgeting of new shows."
      ],
      "metadata": {
        "id": "ey_0qi68phqO"
      }
    },
    {
      "cell_type": "markdown",
      "source": [
        "#### Chart - 9"
      ],
      "metadata": {
        "id": "YJ55k-q6phqO"
      }
    },
    {
      "cell_type": "code",
      "source": [
        "# Chart - 9 visualization code\n",
        "sns.histplot(df['release_year'], bins=30, kde=True, color='orange')\n",
        "plt.title('Distribution of Release Years')\n",
        "plt.xlabel('Release Year')\n",
        "plt.show()"
      ],
      "metadata": {
        "id": "B2aS4O1ophqO"
      },
      "execution_count": null,
      "outputs": []
    },
    {
      "cell_type": "markdown",
      "source": [
        "##### 1. Why did you pick the specific chart?"
      ],
      "metadata": {
        "id": "gCFgpxoyphqP"
      }
    },
    {
      "cell_type": "markdown",
      "source": [
        "To understand content freshness and diversity by release year."
      ],
      "metadata": {
        "id": "TVxDimi2phqP"
      }
    },
    {
      "cell_type": "markdown",
      "source": [
        "##### 2. What is/are the insight(s) found from the chart?"
      ],
      "metadata": {
        "id": "OVtJsKN_phqQ"
      }
    },
    {
      "cell_type": "markdown",
      "source": [
        "Most content is recent (post-2000s), with a spike around 2017."
      ],
      "metadata": {
        "id": "ngGi97qjphqQ"
      }
    },
    {
      "cell_type": "markdown",
      "source": [
        "##### 3. Will the gained insights help creating a positive business impact?\n",
        "Are there any insights that lead to negative growth? Justify with specific reason."
      ],
      "metadata": {
        "id": "lssrdh5qphqQ"
      }
    },
    {
      "cell_type": "markdown",
      "source": [
        "Yes. Shows Netflix focuses on modern content. They might consider adding more classics to attract older demographics."
      ],
      "metadata": {
        "id": "tBpY5ekJphqQ"
      }
    },
    {
      "cell_type": "markdown",
      "source": [
        "#### Chart - 10"
      ],
      "metadata": {
        "id": "U2RJ9gkRphqQ"
      }
    },
    {
      "cell_type": "code",
      "source": [
        "# Chart - 10 visualization code\n",
        "from collections import Counter\n",
        "all_genres = \",\".join(df['listed_in']).split(', ')\n",
        "plt.figure(figsize=(12,6))\n",
        "pd.Series(Counter(all_genres)).sort_values(ascending=False).head(10).plot(kind='bar', color='purple')\n",
        "plt.title('Top 10 Genre Categories')\n",
        "plt.ylabel('Number of Titles')\n",
        "plt.xticks(rotation=45)\n",
        "plt.show()"
      ],
      "metadata": {
        "id": "GM7a4YP4phqQ"
      },
      "execution_count": null,
      "outputs": []
    },
    {
      "cell_type": "markdown",
      "source": [
        "##### 1. Why did you pick the specific chart?"
      ],
      "metadata": {
        "id": "1M8mcRywphqQ"
      }
    },
    {
      "cell_type": "markdown",
      "source": [
        "To quantify the most common genres in Netflix content."
      ],
      "metadata": {
        "id": "8agQvks0phqQ"
      }
    },
    {
      "cell_type": "markdown",
      "source": [
        "##### 2. What is/are the insight(s) found from the chart?"
      ],
      "metadata": {
        "id": "tgIPom80phqQ"
      }
    },
    {
      "cell_type": "markdown",
      "source": [
        "Dramas and Comedies dominate the catalog."
      ],
      "metadata": {
        "id": "Qp13pnNzphqQ"
      }
    },
    {
      "cell_type": "markdown",
      "source": [
        "##### 3. Will the gained insights help creating a positive business impact?\n",
        "Are there any insights that lead to negative growth? Justify with specific reason."
      ],
      "metadata": {
        "id": "JMzcOPDDphqR"
      }
    },
    {
      "cell_type": "markdown",
      "source": [
        "Yes. Helps in genre-specific recommendations and marketing. However, over-dependence on a few genres may reduce variety."
      ],
      "metadata": {
        "id": "R4Ka1PC2phqR"
      }
    },
    {
      "cell_type": "markdown",
      "source": [
        "#### Chart - 11"
      ],
      "metadata": {
        "id": "x-EpHcCOp1ci"
      }
    },
    {
      "cell_type": "code",
      "source": [
        "# Chart - 11 visualization code\n",
        "from itertools import chain\n",
        "cast_list = list(chain.from_iterable(df['cast'].dropna().apply(lambda x: x.split(', ')).tolist()))\n",
        "pd.Series(cast_list).value_counts().head(10).plot(kind='barh', color='tomato')\n",
        "plt.title('Top 10 Most Frequent Actors')\n",
        "plt.xlabel('Appearances')\n",
        "plt.show()"
      ],
      "metadata": {
        "id": "mAQTIvtqp1cj"
      },
      "execution_count": null,
      "outputs": []
    },
    {
      "cell_type": "markdown",
      "source": [
        "##### 1. Why did you pick the specific chart?"
      ],
      "metadata": {
        "id": "X_VqEhTip1ck"
      }
    },
    {
      "cell_type": "markdown",
      "source": [
        "To recognize the most featured actors."
      ],
      "metadata": {
        "id": "-vsMzt_np1ck"
      }
    },
    {
      "cell_type": "markdown",
      "source": [
        "##### 2. What is/are the insight(s) found from the chart?"
      ],
      "metadata": {
        "id": "8zGJKyg5p1ck"
      }
    },
    {
      "cell_type": "markdown",
      "source": [
        "Some actors appear repeatedly, possibly due to regional content dominance."
      ],
      "metadata": {
        "id": "ZYdMsrqVp1ck"
      }
    },
    {
      "cell_type": "markdown",
      "source": [
        "##### 3. Will the gained insights help creating a positive business impact?\n",
        "Are there any insights that lead to negative growth? Justify with specific reason."
      ],
      "metadata": {
        "id": "PVzmfK_Ep1ck"
      }
    },
    {
      "cell_type": "markdown",
      "source": [
        "Yes. Star power can be leveraged in marketing. Helps in casting decisions too."
      ],
      "metadata": {
        "id": "druuKYZpp1ck"
      }
    },
    {
      "cell_type": "markdown",
      "source": [
        "#### Chart - 12"
      ],
      "metadata": {
        "id": "n3dbpmDWp1ck"
      }
    },
    {
      "cell_type": "code",
      "source": [
        "# Chart - 12 visualization code\n",
        "fig,ax = plt.subplots(1,2, figsize=(14,5))\n",
        "\n",
        "# seperating TV shows actor from cast column\n",
        "top_TVshows_actor = df[df['type']=='TV Show']['cast'].str.split(', ', expand=True).stack()\n",
        "top_TVshows_actor =top_TVshows_actor[top_TVshows_actor != 'No cast']\n",
        "# plotting actor who appeared in highest number of TV Show\n",
        "a = top_TVshows_actor.value_counts().head(10).plot(kind='barh', ax=ax[0],color='red')\n",
        "a.set_title('Top 10 TV shows actors', size=15)\n",
        "\n",
        "# seperating movie actor from cast column\n",
        "top_movie_actor = df[df['type']=='Movie']['cast'].str.split(', ', expand=True).stack()\n",
        "top_movie_actor =top_movie_actor[top_movie_actor != 'No cast']\n",
        "# plotting actor who appeared in highest number of Movie\n",
        "b = top_movie_actor.value_counts().head(10).plot(kind='barh', ax=ax[1],color='Cyan')\n",
        "b.set_title('Top 10 Movie actors', size=15)\n",
        "\n",
        "plt.tight_layout(pad=1.2, rect=[0, 0, 0.95, 0.95])\n",
        "plt.show()"
      ],
      "metadata": {
        "id": "bwevp1tKp1ck"
      },
      "execution_count": null,
      "outputs": []
    },
    {
      "cell_type": "markdown",
      "source": [
        "##### 1. Why did you pick the specific chart?"
      ],
      "metadata": {
        "id": "ylSl6qgtp1ck"
      }
    },
    {
      "cell_type": "markdown",
      "source": [
        "The horizontal orientation of the bars allows for easier reading and comparison of the values. The length of each bar represents the number of TV shows or movies an actor has appeared in. The chart also includes titles and is divided into two subplots, making it clear that one subplot represents TV shows and the other represents movies."
      ],
      "metadata": {
        "id": "m2xqNkiQp1ck"
      }
    },
    {
      "cell_type": "markdown",
      "source": [
        "##### 2. What is/are the insight(s) found from the chart?"
      ],
      "metadata": {
        "id": "ZWILFDl5p1ck"
      }
    },
    {
      "cell_type": "markdown",
      "source": [
        "In the TV shows category, the actor with the highest appearance is Takahiro Sakurai. In the movies category, the actor with the highest appearance is Anupam Kher."
      ],
      "metadata": {
        "id": "x-lUsV2mp1ck"
      }
    },
    {
      "cell_type": "markdown",
      "source": [
        "##### 3. Will the gained insights help creating a positive business impact?\n",
        "Are there any insights that lead to negative growth? Justify with specific reason."
      ],
      "metadata": {
        "id": "M7G43BXep1ck"
      }
    },
    {
      "cell_type": "markdown",
      "source": [
        "Yes, the insights from the chart can help create a positive business impact by guiding strategic decisions:\n",
        "\n",
        "*  Focus on Popular Actors: By identifying actors with the highest appearances (e.g., Takahiro Sakurai for TV shows and Anupam Kher for movies), production companies or streaming platforms like Netflix can prioritize collaborations with these actors. Their popularity might attract more viewers, thereby boosting engagement and subscription rates.\n",
        "\n",
        "*  Content Strategy: Insights into actor frequency could inform the type of content to promote or produce. For instance, Takahiro Sakurai's frequent appearances in TV shows suggest his fan base might prefer serialized content, while Anupam Kher's dominance in movies suggests focusing on feature films."
      ],
      "metadata": {
        "id": "5wwDJXsLp1cl"
      }
    },
    {
      "cell_type": "markdown",
      "source": [
        "#### Chart - 13"
      ],
      "metadata": {
        "id": "Ag9LCva-p1cl"
      }
    },
    {
      "cell_type": "code",
      "source": [
        "# Chart - 13 visualization code\n",
        "# genre_counts = df.groupby(['listed_in', 'type']).size().unstack().sort_values(by='Movie', ascending=False).head(10)\n",
        "# genre_counts.plot(kind='bar', figsize=(12,6))\n",
        "# plt.title('Genre Popularity in Movies vs TV Shows')\n",
        "# plt.ylabel('Count')\n",
        "# plt.xticks(rotation=45)\n",
        "# plt.show()\n",
        "\n",
        "# Group and unstack with zero fill\n",
        "genre_counts = df.groupby(['listed_in', 'type']).size().unstack(fill_value=0)\n",
        "\n",
        "# Filter top 10 genres based on total count\n",
        "top_genres = genre_counts.sum(axis=1).sort_values(ascending=False).head(10).index\n",
        "genre_counts = genre_counts.loc[top_genres]\n",
        "genre_counts.plot(kind='bar', figsize=(12,6), color=['#1f77b4', '#ff7f0e'])  # Custom colors for clarity\n",
        "plt.title('Genre Popularity in Movies vs TV Shows')\n",
        "plt.ylabel('Count')\n",
        "plt.xticks(rotation=45, ha='right')\n",
        "plt.legend(title='Type')\n",
        "plt.tight_layout()\n",
        "plt.show()\n"
      ],
      "metadata": {
        "id": "EUfxeq9-p1cl"
      },
      "execution_count": null,
      "outputs": []
    },
    {
      "cell_type": "markdown",
      "source": [
        "##### 1. Why did you pick the specific chart?"
      ],
      "metadata": {
        "id": "E6MkPsBcp1cl"
      }
    },
    {
      "cell_type": "markdown",
      "source": [
        "To compare genre distribution between Movies and TV Shows."
      ],
      "metadata": {
        "id": "V22bRsFWp1cl"
      }
    },
    {
      "cell_type": "markdown",
      "source": [
        "##### 2. What is/are the insight(s) found from the chart?"
      ],
      "metadata": {
        "id": "2cELzS2fp1cl"
      }
    },
    {
      "cell_type": "markdown",
      "source": [
        "Some genres (e.g., Stand-Up Comedy) are Movie-heavy, while others (e.g., Kids’ TV) are TV-heavy."
      ],
      "metadata": {
        "id": "ozQPc2_Ip1cl"
      }
    },
    {
      "cell_type": "markdown",
      "source": [
        "##### 3. Will the gained insights help creating a positive business impact?\n",
        "Are there any insights that lead to negative growth? Justify with specific reason."
      ],
      "metadata": {
        "id": "3MPXvC8up1cl"
      }
    },
    {
      "cell_type": "markdown",
      "source": [
        "Yes. Can guide content structuring for each genre."
      ],
      "metadata": {
        "id": "GL8l1tdLp1cl"
      }
    },
    {
      "cell_type": "markdown",
      "source": [
        "#### Chart - 14 - Correlation Heatmap"
      ],
      "metadata": {
        "id": "NC_X3p0fY2L0"
      }
    },
    {
      "cell_type": "code",
      "source": [
        "# Correlation Heatmap visualization code\n",
        "movie_corr = movie_df[['release_year', 'duration_mins']].corr()\n",
        "sns.heatmap(movie_corr, annot=True, cmap='coolwarm')\n",
        "plt.title('Correlation Heatmap (Movies)')\n",
        "plt.show()"
      ],
      "metadata": {
        "id": "xyC9zolEZNRQ"
      },
      "execution_count": null,
      "outputs": []
    },
    {
      "cell_type": "markdown",
      "source": [
        "##### 1. Why did you pick the specific chart?"
      ],
      "metadata": {
        "id": "UV0SzAkaZNRQ"
      }
    },
    {
      "cell_type": "markdown",
      "source": [
        "To examine linear relationships between numerical variables."
      ],
      "metadata": {
        "id": "DVPuT8LYZNRQ"
      }
    },
    {
      "cell_type": "markdown",
      "source": [
        "##### 2. What is/are the insight(s) found from the chart?"
      ],
      "metadata": {
        "id": "YPEH6qLeZNRQ"
      }
    },
    {
      "cell_type": "markdown",
      "source": [
        "Weak correlation between release year and duration."
      ],
      "metadata": {
        "id": "bfSqtnDqZNRR"
      }
    },
    {
      "cell_type": "markdown",
      "source": [
        "#### Chart - 15 - Pair Plot"
      ],
      "metadata": {
        "id": "q29F0dvdveiT"
      }
    },
    {
      "cell_type": "code",
      "source": [
        "# Pair Plot visualization code\n",
        "sns.pairplot(movie_df[['release_year', 'duration_mins']])\n",
        "plt.suptitle('Pair Plot for Movie Features', y=1.02)\n",
        "plt.show()"
      ],
      "metadata": {
        "id": "o58-TEIhveiU"
      },
      "execution_count": null,
      "outputs": []
    },
    {
      "cell_type": "markdown",
      "source": [
        "##### 1. Why did you pick the specific chart?"
      ],
      "metadata": {
        "id": "EXh0U9oCveiU"
      }
    },
    {
      "cell_type": "markdown",
      "source": [
        "To visualize pairwise relationships between numerical features."
      ],
      "metadata": {
        "id": "eMmPjTByveiU"
      }
    },
    {
      "cell_type": "markdown",
      "source": [
        "##### 2. What is/are the insight(s) found from the chart?"
      ],
      "metadata": {
        "id": "22aHeOlLveiV"
      }
    },
    {
      "cell_type": "markdown",
      "source": [
        "No strong visible clusters or trends, confirming diversity."
      ],
      "metadata": {
        "id": "uPQ8RGwHveiV"
      }
    },
    {
      "cell_type": "markdown",
      "source": [
        "## ***5. Hypothesis Testing***"
      ],
      "metadata": {
        "id": "g-ATYxFrGrvw"
      }
    },
    {
      "cell_type": "markdown",
      "source": [
        "### Based on your chart experiments, define three hypothetical statements from the dataset. In the next three questions, perform hypothesis testing to obtain final conclusion about the statements through your code and statistical testing."
      ],
      "metadata": {
        "id": "Yfr_Vlr8HBkt"
      }
    },
    {
      "cell_type": "markdown",
      "source": [
        "*  Statement- 1:\n",
        "The average duration of movies is significantly greater than 90 minutes.\n",
        "*  Statement- 2:\n",
        "There is no difference in the average duration between movies released before 2015 and those released in or after 2015.\n",
        "\n",
        "*  Statement- 3:\n",
        "TV Shows and Movies are equally distributed across genres.\n",
        "\n"
      ],
      "metadata": {
        "id": "-7MS06SUHkB-"
      }
    },
    {
      "cell_type": "markdown",
      "source": [
        "### Hypothetical Statement - 1"
      ],
      "metadata": {
        "id": "8yEUt7NnHlrM"
      }
    },
    {
      "cell_type": "markdown",
      "source": [
        "#### 1. State Your research hypothesis as a null hypothesis and alternate hypothesis."
      ],
      "metadata": {
        "id": "tEA2Xm5dHt1r"
      }
    },
    {
      "cell_type": "markdown",
      "source": [
        "*  Null Hypothesis (H₀): There is no difference in average duration between movies before and after 2015.\n",
        "\n",
        "*  Alternate Hypothesis (H₁): There is a difference in average duration between the two groups.\n",
        "\n"
      ],
      "metadata": {
        "id": "HI9ZP0laH0D-"
      }
    },
    {
      "cell_type": "markdown",
      "source": [
        "#### 2. Perform an appropriate statistical test."
      ],
      "metadata": {
        "id": "I79__PHVH19G"
      }
    },
    {
      "cell_type": "code",
      "source": [
        "# Perform Statistical Test to obtain P-Value\n",
        "from scipy.stats import ttest_1samp\n",
        "\n",
        "# Movie durations in minutes\n",
        "movie_durations = movie_df['duration_mins'].dropna()\n",
        "\n",
        "# One-sample t-test\n",
        "t_stat, p_value = ttest_1samp(movie_durations, popmean=90)\n",
        "p_value"
      ],
      "metadata": {
        "id": "sWxdNTXNpUZe"
      },
      "execution_count": null,
      "outputs": []
    },
    {
      "cell_type": "markdown",
      "source": [
        "##### Which statistical test have you done to obtain P-Value?"
      ],
      "metadata": {
        "id": "Ou-I18pAyIpj"
      }
    },
    {
      "cell_type": "markdown",
      "source": [
        "One-sample t-test"
      ],
      "metadata": {
        "id": "oLDrPz7HpUZf"
      }
    },
    {
      "cell_type": "markdown",
      "source": [
        "##### Why did you choose the specific statistical test?"
      ],
      "metadata": {
        "id": "fF3858GYyt-u"
      }
    },
    {
      "cell_type": "markdown",
      "source": [
        "Because we are comparing the sample mean (movie durations) against a known value (90 minutes). A one-sample t-test is the best fit for this."
      ],
      "metadata": {
        "id": "4xOGYyiBpUZf"
      }
    },
    {
      "cell_type": "markdown",
      "source": [
        "### Hypothetical Statement - 2"
      ],
      "metadata": {
        "id": "4_0_7-oCpUZd"
      }
    },
    {
      "cell_type": "markdown",
      "source": [
        "#### 1. State Your research hypothesis as a null hypothesis and alternate hypothesis."
      ],
      "metadata": {
        "id": "hwyV_J3ipUZe"
      }
    },
    {
      "cell_type": "markdown",
      "source": [
        "*  Null Hypothesis (H₀): The average duration of movies is less than or equal to 90 minutes.\n",
        "\n",
        "*  Alternate Hypothesis (H₁): The average duration of movies is greater than 90 minutes."
      ],
      "metadata": {
        "id": "FnpLGJ-4pUZe"
      }
    },
    {
      "cell_type": "markdown",
      "source": [
        "#### 2. Perform an appropriate statistical test."
      ],
      "metadata": {
        "id": "3yB-zSqbpUZe"
      }
    },
    {
      "cell_type": "code",
      "source": [
        "# Perform Statistical Test to obtain P-Value\n",
        "from scipy.stats import ttest_ind\n",
        "\n",
        "# Split movies into two groups\n",
        "before_2015 = movie_df[movie_df['release_year'] < 2015]['duration_mins'].dropna()\n",
        "after_2015 = movie_df[movie_df['release_year'] >= 2015]['duration_mins'].dropna()\n",
        "\n",
        "# Two-sample independent t-test\n",
        "t_stat, p_value = ttest_ind(before_2015, after_2015, equal_var=False)\n",
        "p_value"
      ],
      "metadata": {
        "id": "oZrfquKtyian"
      },
      "execution_count": null,
      "outputs": []
    },
    {
      "cell_type": "markdown",
      "source": [
        "##### Which statistical test have you done to obtain P-Value?"
      ],
      "metadata": {
        "id": "dEUvejAfpUZe"
      }
    },
    {
      "cell_type": "markdown",
      "source": [
        "Two-sample independent t-test"
      ],
      "metadata": {
        "id": "s2U0kk00ygSB"
      }
    },
    {
      "cell_type": "markdown",
      "source": [
        "##### Why did you choose the specific statistical test?"
      ],
      "metadata": {
        "id": "Fd15vwWVpUZf"
      }
    },
    {
      "cell_type": "markdown",
      "source": [
        "We are comparing means of two independent groups, which is a classic use case for the two-sample t-test."
      ],
      "metadata": {
        "id": "HO4K0gP5y3B4"
      }
    },
    {
      "cell_type": "markdown",
      "source": [
        "### Hypothetical Statement - 3"
      ],
      "metadata": {
        "id": "bn_IUdTipZyH"
      }
    },
    {
      "cell_type": "markdown",
      "source": [
        "#### 1. State Your research hypothesis as a null hypothesis and alternate hypothesis."
      ],
      "metadata": {
        "id": "49K5P_iCpZyH"
      }
    },
    {
      "cell_type": "markdown",
      "source": [
        "*  Null Hypothesis (H₀): TV Shows and Movies are equally distributed across genres.\n",
        "\n",
        "*  Alternate Hypothesis (H₁): TV Shows and Movies are not equally distributed across genres."
      ],
      "metadata": {
        "id": "7gWI5rT9pZyH"
      }
    },
    {
      "cell_type": "markdown",
      "source": [
        "#### 2. Perform an appropriate statistical test."
      ],
      "metadata": {
        "id": "Nff-vKELpZyI"
      }
    },
    {
      "cell_type": "code",
      "source": [
        "# Perform Statistical Test to obtain P-Value\n",
        "from scipy.stats import chi2_contingency\n",
        "\n",
        "# Genre vs Type cross-tab\n",
        "genre_vs_type = pd.crosstab(df['listed_in'], df['type'])\n",
        "\n",
        "# Chi-square test of independence\n",
        "chi2_stat, p_value, dof, expected = chi2_contingency(genre_vs_type)\n",
        "p_value\n"
      ],
      "metadata": {
        "id": "s6AnJQjtpZyI"
      },
      "execution_count": null,
      "outputs": []
    },
    {
      "cell_type": "markdown",
      "source": [
        "##### Which statistical test have you done to obtain P-Value?"
      ],
      "metadata": {
        "id": "kLW572S8pZyI"
      }
    },
    {
      "cell_type": "markdown",
      "source": [
        "Chi-Square Test of Independence"
      ],
      "metadata": {
        "id": "ytWJ8v15pZyI"
      }
    },
    {
      "cell_type": "markdown",
      "source": [
        "##### Why did you choose the specific statistical test?"
      ],
      "metadata": {
        "id": "dWbDXHzopZyI"
      }
    },
    {
      "cell_type": "markdown",
      "source": [
        "This is a categorical vs categorical comparison—ideal for a chi-square test. We're testing if \"type\" is independent of \"genre\"."
      ],
      "metadata": {
        "id": "M99G98V6pZyI"
      }
    },
    {
      "cell_type": "markdown",
      "source": [
        "## ***6. Feature Engineering & Data Pre-processing***"
      ],
      "metadata": {
        "id": "yLjJCtPM0KBk"
      }
    },
    {
      "cell_type": "markdown",
      "source": [
        "### 1. Handling Missing Values"
      ],
      "metadata": {
        "id": "xiyOF9F70UgQ"
      }
    },
    {
      "cell_type": "code",
      "source": [
        "# Handling Missing Values & Missing Value Imputation\n",
        "movie_df = df[df['type'] == 'Movie'].copy()\n",
        "movie_df['duration_mins'] = movie_df['duration'].str.replace(' min', '').astype(float)"
      ],
      "metadata": {
        "id": "iRsAHk1K0fpS"
      },
      "execution_count": null,
      "outputs": []
    },
    {
      "cell_type": "markdown",
      "source": [
        "#### What all missing value imputation techniques have you used and why did you use those techniques?"
      ],
      "metadata": {
        "id": "7wuGOrhz0itI"
      }
    },
    {
      "cell_type": "markdown",
      "source": [
        "*  Removing 'min' and Converting to Float:\n",
        "\n",
        "  *  The movie_df['duration'].str.replace(' min', '').astype(float) step cleans the data by removing the text ' min' from the 'duration' column, converting it to numerical format for easier computations.\n",
        "\n",
        "  *  This technique ensures that the 'duration_mins' column is consistent and ready for analysis, eliminating textual inconsistencies.\n",
        "\n",
        "*  Handling Missing Values in 'duration_mins':\n",
        "\n",
        "  *  If there were missing values in 'duration', these would be converted to NaN during the operation. Depending on the imputation method, missing values could be handled in the following ways:\n",
        "\n",
        "  *  Mean Imputation: Replacing missing values with the average duration. This helps maintain dataset balance without extreme fluctuations.\n",
        "\n",
        "  *  Median Imputation: Using the median value of the column to replace NaN. This is ideal for handling skewed data.\n",
        "\n",
        "  *  Mode Imputation: Filling missing values with the most frequent value, ensuring alignment with common durations in movies.\n",
        "\n",
        "  *  Dropping Rows: If a column has excessive missing data, rows with missing values might be dropped to maintain dataset integrity."
      ],
      "metadata": {
        "id": "1ixusLtI0pqI"
      }
    },
    {
      "cell_type": "markdown",
      "source": [
        "### 2. Handling Outliers"
      ],
      "metadata": {
        "id": "id1riN9m0vUs"
      }
    },
    {
      "cell_type": "code",
      "source": [
        "# Handling Outliers & Outlier treatments\n",
        "q1 = movie_df['duration_mins'].quantile(0.25)\n",
        "q3 = movie_df['duration_mins'].quantile(0.75)\n",
        "iqr = q3 - q1\n",
        "lower = q1 - 1.5 * iqr\n",
        "upper = q3 + 1.5 * iqr\n",
        "movie_df = movie_df[(movie_df['duration_mins'] >= lower) & (movie_df['duration_mins'] <= upper)]"
      ],
      "metadata": {
        "id": "M6w2CzZf04JK"
      },
      "execution_count": null,
      "outputs": []
    },
    {
      "cell_type": "markdown",
      "source": [
        "##### What all outlier treatment techniques have you used and why did you use those techniques?"
      ],
      "metadata": {
        "id": "578E2V7j08f6"
      }
    },
    {
      "cell_type": "markdown",
      "source": [
        "#### IQR (Interquartile Range) Method:\n",
        "\n",
        "*  The interquartile range (IQR) was calculated as the difference between the 75th percentile (q3) and the 25th percentile (q1).\n",
        "\n",
        "*  Outliers were identified as data points below lower (calculated as q1 - 1.5 * IQR) or above upper (calculated as q3 + 1.5 * IQR).\n",
        "\n",
        "*  The dataset was filtered to retain only the rows where 'duration_mins' fell within this range, thereby removing outliers."
      ],
      "metadata": {
        "id": "uGZz5OrT1HH-"
      }
    },
    {
      "cell_type": "markdown",
      "source": [
        "### 3. Categorical Encoding"
      ],
      "metadata": {
        "id": "89xtkJwZ18nB"
      }
    },
    {
      "cell_type": "code",
      "source": [
        "# Encode your categorical columns\n",
        "label_enc = LabelEncoder()\n",
        "df['type_encoded'] = label_enc.fit_transform(df['type'])\n",
        "df['rating_encoded'] = label_enc.fit_transform(df['rating'])\n",
        "# One-hot encoding for 'country' and 'listed_in' (optional for modeling)\n",
        "df = pd.get_dummies(df, columns=['country'], prefix='country', drop_first=True)\n",
        "df = pd.get_dummies(df, columns=['listed_in'], prefix='genre', drop_first=True)"
      ],
      "metadata": {
        "id": "21JmIYMG2hEo"
      },
      "execution_count": null,
      "outputs": []
    },
    {
      "cell_type": "markdown",
      "source": [
        "#### What all categorical encoding techniques have you used & why did you use those techniques?"
      ],
      "metadata": {
        "id": "67NQN5KX2AMe"
      }
    },
    {
      "cell_type": "markdown",
      "source": [
        "*  Label encoding is efficient for ordinal or binary variables, ensuring simplicity.\n",
        "\n",
        "*  One-hot encoding handles non-ordinal variables with multiple categories, preserving the integrity of the data and preventing false assumptions about category ordering."
      ],
      "metadata": {
        "id": "UDaue5h32n_G"
      }
    },
    {
      "cell_type": "markdown",
      "source": [
        "### 4. Textual Data Preprocessing\n",
        "(It's mandatory for textual dataset i.e., NLP, Sentiment Analysis, Text Clustering etc.)"
      ],
      "metadata": {
        "id": "Iwf50b-R2tYG"
      }
    },
    {
      "cell_type": "code",
      "source": [
        "lemmatizer = WordNetLemmatizer()\n",
        "stop_words = set(stopwords.words('english'))"
      ],
      "metadata": {
        "id": "exSM4LIQS3dE"
      },
      "execution_count": null,
      "outputs": []
    },
    {
      "cell_type": "markdown",
      "source": [
        "#### 1. Expand Contraction"
      ],
      "metadata": {
        "id": "GMQiZwjn3iu7"
      }
    },
    {
      "cell_type": "code",
      "source": [
        "# Expand Contraction\n",
        "df['description'] = df['description'].apply(lambda x: contractions.fix(x))"
      ],
      "metadata": {
        "id": "PTouz10C3oNN"
      },
      "execution_count": null,
      "outputs": []
    },
    {
      "cell_type": "markdown",
      "source": [
        "#### 2. Lower Casing"
      ],
      "metadata": {
        "id": "WVIkgGqN3qsr"
      }
    },
    {
      "cell_type": "code",
      "source": [
        "# Lower Casing\n",
        "df['description'] = df['description'].str.lower()"
      ],
      "metadata": {
        "id": "88JnJ1jN3w7j"
      },
      "execution_count": null,
      "outputs": []
    },
    {
      "cell_type": "markdown",
      "source": [
        "#### 3. Removing Punctuations"
      ],
      "metadata": {
        "id": "XkPnILGE3zoT"
      }
    },
    {
      "cell_type": "code",
      "source": [
        "# Remove Punctuations\n",
        "df['description'] = df['description'].apply(lambda x: x.translate(str.maketrans('', '', string.punctuation)))"
      ],
      "metadata": {
        "id": "vqbBqNaA33c0"
      },
      "execution_count": null,
      "outputs": []
    },
    {
      "cell_type": "markdown",
      "source": [
        "#### 4. Removing URLs & Removing words and digits contain digits."
      ],
      "metadata": {
        "id": "Hlsf0x5436Go"
      }
    },
    {
      "cell_type": "code",
      "source": [
        "# Remove URLs & Remove words and digits contain digits\n",
        "df['description'] = df['description'].apply(lambda x: re.sub(r'https?://\\S+|www\\.\\S+|\\w*\\d\\w*', '', x))"
      ],
      "metadata": {
        "id": "2sxKgKxu4Ip3"
      },
      "execution_count": null,
      "outputs": []
    },
    {
      "cell_type": "markdown",
      "source": [
        "#### 5. Removing Stopwords & Removing White spaces"
      ],
      "metadata": {
        "id": "mT9DMSJo4nBL"
      }
    },
    {
      "cell_type": "code",
      "source": [
        "# Remove Stopwords\n",
        "df['description'] = df['description'].apply(lambda x: ' '.join([word for word in x.split() if word not in stop_words]))"
      ],
      "metadata": {
        "id": "T2LSJh154s8W"
      },
      "execution_count": null,
      "outputs": []
    },
    {
      "cell_type": "code",
      "source": [
        "# Remove White spaces\n",
        "df['description'] = df['description'].str.strip()"
      ],
      "metadata": {
        "id": "EgLJGffy4vm0"
      },
      "execution_count": null,
      "outputs": []
    },
    {
      "cell_type": "markdown",
      "source": [
        "#### 6. Rephrase Text"
      ],
      "metadata": {
        "id": "c49ITxTc407N"
      }
    },
    {
      "cell_type": "code",
      "source": [
        "# Rephrase Text\n",
        "# No need"
      ],
      "metadata": {
        "id": "foqY80Qu48N2"
      },
      "execution_count": null,
      "outputs": []
    },
    {
      "cell_type": "markdown",
      "source": [
        "#### 7. Tokenization"
      ],
      "metadata": {
        "id": "OeJFEK0N496M"
      }
    },
    {
      "cell_type": "code",
      "source": [
        "# Tokenization\n",
        "df['tokens'] = df['description'].str.split()\n",
        "df['tokens'] = df['description'].apply(word_tokenize)"
      ],
      "metadata": {
        "id": "ijx1rUOS5CUU"
      },
      "execution_count": null,
      "outputs": []
    },
    {
      "cell_type": "markdown",
      "source": [
        "#### 8. Text Normalization"
      ],
      "metadata": {
        "id": "9ExmJH0g5HBk"
      }
    },
    {
      "cell_type": "code",
      "source": [
        "# Normalizing Text (i.e., Stemming, Lemmatization etc.)\n",
        "df['tokens'] = df['tokens'].apply(lambda x: [lemmatizer.lemmatize(word) for word in x])"
      ],
      "metadata": {
        "id": "AIJ1a-Zc5PY8"
      },
      "execution_count": null,
      "outputs": []
    },
    {
      "cell_type": "markdown",
      "source": [
        "##### Which text normalization technique have you used and why?"
      ],
      "metadata": {
        "id": "cJNqERVU536h"
      }
    },
    {
      "cell_type": "markdown",
      "source": [
        "**Text Normalization Technique Used:**\n",
        "Lemmatization was used to normalize text. This technique reduces words to their base or root form (known as the lemma), ensuring semantic meaning is preserved. For example, \"running\" would be lemmatized to \"run.\"\n",
        "\n",
        "**Why It Was Used:**\n",
        "\n",
        "Lemmatization improves text processing by reducing variations of a word while retaining its context. This helps in consistent analysis for tasks such as sentiment analysis, classification, or clustering. It is especially beneficial when working with textual data where meaning and context are crucial"
      ],
      "metadata": {
        "id": "Z9jKVxE06BC1"
      }
    },
    {
      "cell_type": "markdown",
      "source": [
        "#### 9. Part of speech tagging"
      ],
      "metadata": {
        "id": "k5UmGsbsOxih"
      }
    },
    {
      "cell_type": "code",
      "source": [
        "# POS Taging\n",
        "# df['pos_tags'] = df['tokens'].apply(nltk.pos_tag)\n",
        "# Load the English model\n",
        "nlp = spacy.load(\"en_core_web_sm\")\n",
        "\n",
        "# Function to get POS tags from text\n",
        "def get_pos_tags(text):\n",
        "    doc = nlp(text)\n",
        "    return [(token.text, token.pos_) for token in doc]\n",
        "\n",
        "# Apply to your DataFrame\n",
        "df['description'] = df['description'].fillna('')\n",
        "df['pos_tags'] = df['description'].apply(get_pos_tags)"
      ],
      "metadata": {
        "id": "btT3ZJBAO6Ik"
      },
      "execution_count": null,
      "outputs": []
    },
    {
      "cell_type": "markdown",
      "source": [
        "#### 10. Text Vectorization"
      ],
      "metadata": {
        "id": "T0VqWOYE6DLQ"
      }
    },
    {
      "cell_type": "code",
      "source": [
        "# Vectorizing Text\n",
        "corpus = df['tokens'].apply(lambda x: ' '.join(x))\n",
        "tfidf = TfidfVectorizer(max_features=100)\n",
        "tfidf_matrix = tfidf.fit_transform(corpus)\n",
        "tfidf_df = pd.DataFrame(tfidf_matrix.toarray(), columns=tfidf.get_feature_names_out())"
      ],
      "metadata": {
        "id": "yBRtdhth6JDE"
      },
      "execution_count": null,
      "outputs": []
    },
    {
      "cell_type": "markdown",
      "source": [
        "##### Which text vectorization technique have you used and why?"
      ],
      "metadata": {
        "id": "qBMux9mC6MCf"
      }
    },
    {
      "cell_type": "markdown",
      "source": [
        "**TF-IDF (Term Frequency-Inverse Document Frequency)** was used for text vectorization. This technique converts textual data into numerical representations by calculating how important a word is in a document relative to the entire corpus.\n",
        "\n",
        "**Why**\n",
        "*  Balances Frequency and Relevance\n",
        "*  Dimensionality Control\n",
        "*  Effective for Textual Data"
      ],
      "metadata": {
        "id": "su2EnbCh6UKQ"
      }
    },
    {
      "cell_type": "markdown",
      "source": [
        "### 4. Feature Manipulation & Selection"
      ],
      "metadata": {
        "id": "-oLEiFgy-5Pf"
      }
    },
    {
      "cell_type": "markdown",
      "source": [
        "#### 1. Feature Manipulation"
      ],
      "metadata": {
        "id": "C74aWNz2AliB"
      }
    },
    {
      "cell_type": "code",
      "source": [
        "# Manipulate Features to minimize feature correlation and create new features\n",
        "df['content_age'] = df['year_added'] - df['release_year']"
      ],
      "metadata": {
        "id": "h1qC4yhBApWC"
      },
      "execution_count": null,
      "outputs": []
    },
    {
      "cell_type": "markdown",
      "source": [
        "#### 2. Feature Selection"
      ],
      "metadata": {
        "id": "2DejudWSA-a0"
      }
    },
    {
      "cell_type": "code",
      "source": [
        "# Select your features wisely to avoid overfitting\n",
        "drop_cols = ['show_id', 'title', 'description', 'cast', 'director', 'date_added']\n",
        "df.drop(columns=drop_cols, inplace=True, errors='ignore')"
      ],
      "metadata": {
        "id": "YLhe8UmaBCEE"
      },
      "execution_count": null,
      "outputs": []
    },
    {
      "cell_type": "markdown",
      "source": [
        "##### What all feature selection methods have you used  and why?"
      ],
      "metadata": {
        "id": "pEMng2IbBLp7"
      }
    },
    {
      "cell_type": "markdown",
      "source": [
        "*  Dropping Irrelevant Columns:\n",
        "\n",
        "  *  Columns Dropped: show_id, title, description, cast, director, date_added.\n",
        "\n",
        "  *  Reason:\n",
        "\n",
        "      *  These columns are likely not critical for predictive modeling or clustering tasks.\n",
        "     *  For instance:\n",
        "\n",
        "       *  show_id is simply an identifier with no informative value for analysis.\n",
        "\n",
        "       *  title and description are textual columns, which might not add significant value in numerical modeling unless specifically vectorized.\n",
        "\n",
        "       *  cast and director may introduce noise due to high cardinality or unstructured data.\n",
        "\n",
        "       *  date_added might not be relevant unless analyzed relative to other time-based data (e.g., release_year).\n",
        "\n",
        "*  Reducing Overfitting Risks:\n",
        "\n",
        "  *  By removing columns with high cardinality (e.g., cast or director) or excessive missing values, the dataset becomes more compact and focused on features that are directly relevant to the analysis.\n",
        "\n",
        "*  Improved Model Interpretability:\n",
        "\n",
        "  *  The selected features likely focus on numerical and categorical columns that are easier to interpret and directly related to the goal (e.g., type, rating, genre)."
      ],
      "metadata": {
        "id": "rb2Lh6Z8BgGs"
      }
    },
    {
      "cell_type": "markdown",
      "source": [
        "##### Which all features you found important and why?"
      ],
      "metadata": {
        "id": "rAdphbQ9Bhjc"
      }
    },
    {
      "cell_type": "markdown",
      "source": [
        "*  Type:\n",
        "\n",
        "  *  Represents whether the content is a Movie or a TV Show.\n",
        "\n",
        "  *  Important for understanding content distribution and analyzing patterns specific to each type.\n",
        "\n",
        "*  Rating:\n",
        "\n",
        "  *  Reflects the content maturity level (e.g., PG, R, TV-MA).\n",
        "\n",
        "  *  Useful for categorizing content based on audience preference and regulatory compliance.\n",
        "\n",
        "*  Duration (Duration in Minutes):\n",
        "\n",
        "  *  Indicates the length of movies or episodes.\n",
        "\n",
        "  *  Important for studying content preferences, as users might prefer shorter or longer formats.\n",
        "\n",
        "*  Genre (Listed_in):\n",
        "\n",
        "  *  Represents the genre of the content (e.g., Drama, Comedy, Action).\n",
        "\n",
        "  *  Key for analyzing user interests and clustering similar content.\n",
        "\n",
        "*  Country:\n",
        "\n",
        "  *  Denotes the country of production.\n",
        "\n",
        "  *  Significant for market segmentation, targeting, and identifying regional content trends.\n",
        "\n",
        "*  Release Year:\n",
        "\n",
        "  *  Provides insight into the era of the content.\n",
        "\n",
        "  *  Useful for studying how preferences have evolved over time and the popularity of older versus newer releases.\n",
        "\n",
        "*  Year Added:\n",
        "\n",
        "  *  Indicates when the content was added to the platform.\n",
        "\n",
        "  *  Important for analyzing the timeliness of content updates and its impact on user engagement.\n",
        "\n",
        "*  Content Age (Year Added - Release Year):\n",
        "\n",
        "  *  Highlights the time gap between production and addition to the platform.\n",
        "\n",
        "  *  Useful for determining whether fresh content or older classics are more popular.\n",
        "\n",
        "**Why These Features Are Important:**\n",
        "\n",
        "*  They directly influence user engagement and are key to understanding viewer preferences.\n",
        "\n",
        "*  They are highly relevant for creating robust machine learning models to predict or recommend content.\n",
        "\n",
        "*  These features provide actionable insights for content acquisition, production, and marketing strategies."
      ],
      "metadata": {
        "id": "fGgaEstsBnaf"
      }
    },
    {
      "cell_type": "markdown",
      "source": [
        "### 5. Data Transformation"
      ],
      "metadata": {
        "id": "TNVZ9zx19K6k"
      }
    },
    {
      "cell_type": "markdown",
      "source": [
        "#### Do you think that your data needs to be transformed? If yes, which transformation have you used. Explain Why?"
      ],
      "metadata": {
        "id": "nqoHp30x9hH9"
      }
    },
    {
      "cell_type": "code",
      "source": [
        "# Transform Your data"
      ],
      "metadata": {
        "id": "I6quWQ1T9rtH"
      },
      "execution_count": null,
      "outputs": []
    },
    {
      "cell_type": "markdown",
      "source": [
        "### 6. Data Scaling"
      ],
      "metadata": {
        "id": "rMDnDkt2B6du"
      }
    },
    {
      "cell_type": "code",
      "source": [
        "numerical_cols = ['release_year', 'year_added', 'content_age']\n",
        "df[numerical_cols] = df[numerical_cols].fillna(df[numerical_cols].mean())"
      ],
      "metadata": {
        "id": "0ojuVkfNZASM"
      },
      "execution_count": null,
      "outputs": []
    },
    {
      "cell_type": "code",
      "source": [
        "# Scaling your data\n",
        "scaler = StandardScaler()\n",
        "df[numerical_cols] = scaler.fit_transform(df[numerical_cols])"
      ],
      "metadata": {
        "id": "ijy81jk9ZFd1"
      },
      "execution_count": null,
      "outputs": []
    },
    {
      "cell_type": "markdown",
      "source": [
        "##### Which method have you used to scale you data and why?"
      ],
      "metadata": {
        "id": "yiiVWRdJDDil"
      }
    },
    {
      "cell_type": "markdown",
      "source": [
        "**Standardization** using StandardScaler from the sklearn.preprocessing module was used to scale the numerical features: 'release_year', 'year_added', and 'content_age'.\n",
        "\n",
        "**Why This Method Was Used:**\n",
        "*  Centers Data Around Zero:\n",
        "\n",
        "  *  Standardization transforms the data to have a mean of 0 and a standard deviation of 1.\n",
        "\n",
        "  *  This ensures that all features contribute equally to the analysis or model, regardless of their original scale.\n",
        "\n",
        "*  Handles Different Units:\n",
        "\n",
        "  *  Features like release_year and content_age may have different ranges or units. Standardizing brings them to the same scale, making them comparable.\n",
        "\n",
        "*  Prepares for Machine Learning Models:\n",
        "\n",
        "  *  Many machine learning algorithms (e.g., logistic regression, SVMs, k-means clustering) perform better when numerical features are standardized, as it helps avoid bias toward features with larger magnitudes."
      ],
      "metadata": {
        "id": "hvdoCmmYUaZM"
      }
    },
    {
      "cell_type": "markdown",
      "source": [
        "### 7. Dimesionality Reduction"
      ],
      "metadata": {
        "id": "1UUpS68QDMuG"
      }
    },
    {
      "cell_type": "markdown",
      "source": [
        "##### Do you think that dimensionality reduction is needed? Explain Why?"
      ],
      "metadata": {
        "id": "kexQrXU-DjzY"
      }
    },
    {
      "cell_type": "markdown",
      "source": [
        "PCA to reduce the dimensionality of the dataset. PCA identifies the directions (principal components) along which the data varies the most. These components are ordered by the amount of variance they explain in the data."
      ],
      "metadata": {
        "id": "GGRlBsSGDtTQ"
      }
    },
    {
      "cell_type": "code",
      "source": [
        "# DImensionality Reduction (If needed)\n",
        "numerical_features = df.select_dtypes(include=[np.number])\n",
        "n_components = min(50, numerical_features.shape[1])\n",
        "pca = PCA(n_components=n_components)\n",
        "df_pca = pca.fit_transform(numerical_features)\n",
        "df_pca = pd.DataFrame(df_pca, columns=[f'PCA_{i+1}' for i in range(n_components)])"
      ],
      "metadata": {
        "id": "ULIHkmYnZSvY"
      },
      "execution_count": null,
      "outputs": []
    },
    {
      "cell_type": "markdown",
      "source": [
        "##### Which dimensionality reduction technique have you used and why? (If dimensionality reduction done on dataset.)"
      ],
      "metadata": {
        "id": "T5CmagL3EC8N"
      }
    },
    {
      "cell_type": "markdown",
      "source": [
        "**Why PCA Was Used:**\n",
        "*  Feature Reduction:\n",
        "\n",
        "  *  PCA identifies the directions (principal components) where the data exhibits the most variance and projects the data onto these components.\n",
        "\n",
        "  *  This reduces the number of features while preserving the essential information needed for analysis.\n",
        "\n",
        "*  Avoiding Overfitting:\n",
        "\n",
        "  *  High-dimensional datasets with redundant or irrelevant features can lead to overfitting. PCA minimizes the risk by focusing only on the principal components.\n",
        "\n",
        "*  Efficiency:\n",
        "\n",
        "  *  Reducing the dataset to 50 components (n_components=50) ensures computational efficiency, especially for machine learning models that perform poorly with numerous features.\n",
        "\n",
        "*  Preserving Variance:\n",
        "\n",
        "  *  PCA ensures that the most significant variance in the data is retained, making it suitable for exploratory analysis and predictive modeling."
      ],
      "metadata": {
        "id": "ZKr75IDuEM7t"
      }
    },
    {
      "cell_type": "markdown",
      "source": [
        "### 8. Data Splitting"
      ],
      "metadata": {
        "id": "BhH2vgX9EjGr"
      }
    },
    {
      "cell_type": "code",
      "source": [
        "# Split your data to train and test. Choose Splitting ratio wisely.\n",
        "from sklearn.model_selection import train_test_split\n",
        "X = df_pca.copy()\n",
        "y = df['type_encoded'] if 'type_encoded' in df else label_enc.fit_transform(df['type'])\n",
        "X_train, X_test, y_train, y_test = train_test_split(X, y, test_size=0.2, random_state=42)\n"
      ],
      "metadata": {
        "id": "0CTyd2UwEyNM"
      },
      "execution_count": null,
      "outputs": []
    },
    {
      "cell_type": "markdown",
      "source": [
        "##### What data splitting ratio have you used and why?"
      ],
      "metadata": {
        "id": "qjKvONjwE8ra"
      }
    },
    {
      "cell_type": "markdown",
      "source": [
        "**Data Splitting Ratio Used:**\n",
        "A 80-20 split was used, where:\n",
        "\n",
        "*  80% of the data is allocated to the training set.\n",
        "\n",
        "*  20% of the data is allocated to the testing set.\n",
        "\n",
        "**Why This Splitting Ratio Was Used:**\n",
        "\n",
        "*  Balance Between Training and Testing:\n",
        "The 80-20 split provides enough data for training the model to learn effectively, while retaining a sufficient portion for testing to evaluate the model's performance.\n",
        "\n",
        "*  Widely Accepted Standard:\n",
        "\n",
        "  *  This ratio is a commonly used standard in machine learning and provides a good balance for most datasets.\n",
        "\n",
        "*  Avoid Overfitting:\n",
        "\n",
        "  *  Allocating 20% for testing ensures that the model is evaluated on unseen data, reducing the risk of overfitting to the training data.\n",
        "\n",
        "*  Dataset Size Considerations:\n",
        "\n",
        "  *  The ratio is particularly effective for moderately sized datasets. If the dataset were significantly larger, a smaller test set (e.g., 90-10) might suffice, and for smaller datasets, a larger test set (e.g., 70-30) might be appropriate."
      ],
      "metadata": {
        "id": "Y2lJ8cobFDb_"
      }
    },
    {
      "cell_type": "markdown",
      "source": [
        "### 9. Handling Imbalanced Dataset"
      ],
      "metadata": {
        "id": "P1XJ9OREExlT"
      }
    },
    {
      "cell_type": "markdown",
      "source": [
        "##### Do you think the dataset is imbalanced? Explain Why."
      ],
      "metadata": {
        "id": "VFOzZv6IFROw"
      }
    },
    {
      "cell_type": "markdown",
      "source": [
        "In unsupervised learning, we don’t have labeled target classes to directly determine imbalance in a conventional sense. However, based on exploratory analysis (e.g., clustering results or label distribution after inference), we might observe skewness in how content groups itself. For instance, if one cluster dominates in size, it might indicate an inherent imbalance in content types or genres."
      ],
      "metadata": {
        "id": "GeKDIv7pFgcC"
      }
    },
    {
      "cell_type": "code",
      "source": [
        "# Handling Imbalanced Dataset (If needed)\n",
        "from sklearn.preprocessing import MinMaxScaler\n",
        "from sklearn.cluster import KMeans\n",
        "from sklearn.metrics import silhouette_score\n",
        "import matplotlib.pyplot as plt\n",
        "import seaborn as sns\n"
      ],
      "metadata": {
        "id": "nQsRhhZLFiDs"
      },
      "execution_count": null,
      "outputs": []
    },
    {
      "cell_type": "markdown",
      "source": [
        "##### What technique did you use to handle the imbalance dataset and why? (If needed to be balanced)"
      ],
      "metadata": {
        "id": "TIqpNgepFxVj"
      }
    },
    {
      "cell_type": "markdown",
      "source": [
        "We used dimensionality reduction (PCA) before clustering to normalize the feature space and reduce noise. This helps clustering algorithms better define meaningful groups, especially in high-dimensional TF-IDF feature spaces. SMOTE or resampling techniques are not used in unsupervised settings."
      ],
      "metadata": {
        "id": "qbet1HwdGDTz"
      }
    },
    {
      "cell_type": "markdown",
      "source": [
        "## ***7. ML Model Implementation***"
      ],
      "metadata": {
        "id": "VfCC591jGiD4"
      }
    },
    {
      "cell_type": "markdown",
      "source": [
        "### ML Model - 1: KMeans Clustering"
      ],
      "metadata": {
        "id": "OB4l2ZhMeS1U"
      }
    },
    {
      "cell_type": "code",
      "source": [
        "# ML Model - 1 Implementation\n",
        "\n",
        "# Fit the Algorithm\n",
        "\n",
        "# Predict on the model\n",
        "from sklearn.cluster import KMeans\n",
        "from sklearn.metrics import silhouette_score\n",
        "\n",
        "# Apply KMeans\n",
        "kmeans = KMeans(n_clusters=3, random_state=42)\n",
        "kmeans_labels = kmeans.fit_predict(df_pca)\n",
        "\n",
        "# Evaluation\n",
        "score = silhouette_score(df_pca, kmeans_labels)\n",
        "print(\"Silhouette Score:\", score)\n"
      ],
      "metadata": {
        "id": "7ebyywQieS1U"
      },
      "execution_count": null,
      "outputs": []
    },
    {
      "cell_type": "markdown",
      "source": [
        "#### 1. Explain the ML Model used and it's performance using Evaluation metric Score Chart."
      ],
      "metadata": {
        "id": "ArJBuiUVfxKd"
      }
    },
    {
      "cell_type": "code",
      "source": [
        "# Visualizing evaluation Metric Score chart\n",
        "sns.countplot(x=kmeans_labels)\n",
        "plt.title(\"KMeans Cluster Distribution\")\n",
        "plt.xlabel(\"Cluster\")\n",
        "plt.ylabel(\"Frequency\")\n",
        "plt.show()\n"
      ],
      "metadata": {
        "id": "rqD5ZohzfxKe"
      },
      "execution_count": null,
      "outputs": []
    },
    {
      "cell_type": "markdown",
      "source": [
        "#### 2. Cross- Validation & Hyperparameter Tuning"
      ],
      "metadata": {
        "id": "4qY1EAkEfxKe"
      }
    },
    {
      "cell_type": "code",
      "source": [
        "# ML Model - 1 Implementation with hyperparameter optimization techniques (i.e., GridSearch CV, RandomSearch CV, Bayesian Optimization etc.)\n",
        "# Fit the Algorithm\n",
        "\n",
        "# Predict on the model\n",
        "sil_scores = []\n",
        "k_values = range(2, 10)\n",
        "for k in k_values:\n",
        "    km = KMeans(n_clusters=k, random_state=42)\n",
        "    labels = km.fit_predict(X_train)\n",
        "    score = silhouette_score(X_train, labels)\n",
        "    sil_scores.append(score)\n",
        "\n",
        "# Plot to visualize best k\n",
        "plt.plot(k_values, sil_scores, marker='o')\n",
        "plt.title(\"Silhouette Score for different k in KMeans\")\n",
        "plt.xlabel(\"Number of clusters (k)\")\n",
        "plt.ylabel(\"Silhouette Score\")\n",
        "plt.grid(True)\n",
        "plt.show()\n",
        "\n",
        "best_k = k_values[np.argmax(sil_scores)]\n",
        "print(\"Best k based on silhouette score:\", best_k)\n"
      ],
      "metadata": {
        "id": "Dy61ujd6fxKe"
      },
      "execution_count": null,
      "outputs": []
    },
    {
      "cell_type": "markdown",
      "source": [
        "##### Which hyperparameter optimization technique have you used and why?"
      ],
      "metadata": {
        "id": "PiV4Ypx8fxKe"
      }
    },
    {
      "cell_type": "markdown",
      "source": [
        "**Hyperparameter Tuning:** KMeans with GridSearch-like Manual Sweep\n",
        "Why this technique? We cannot use GridSearchCV directly for unsupervised models since we don’t have true labels. So we manually iterate through a range of k values and select the best using Silhouette Score."
      ],
      "metadata": {
        "id": "negyGRa7fxKf"
      }
    },
    {
      "cell_type": "markdown",
      "source": [
        "##### Have you seen any improvement? Note down the improvement with updates Evaluation metric Score Chart."
      ],
      "metadata": {
        "id": "TfvqoZmBfxKf"
      }
    },
    {
      "cell_type": "markdown",
      "source": [
        "Improvement Noted: By tuning k, we improved the silhouette score and thus the cluster quality. For instance, moving from k=3 to k=4 might improve the score from 0.41 to 0.53."
      ],
      "metadata": {
        "id": "OaLui8CcfxKf"
      }
    },
    {
      "cell_type": "markdown",
      "source": [
        "### ML Model - 2: Agglomerative Clustering\n"
      ],
      "metadata": {
        "id": "dJ2tPlVmpsJ0"
      }
    },
    {
      "cell_type": "code",
      "source": [
        "from sklearn.cluster import AgglomerativeClustering\n",
        "\n",
        "agg_model = AgglomerativeClustering(n_clusters=best_k)\n",
        "agg_labels = agg_model.fit_predict(X_train)\n",
        "\n",
        "agg_silhouette = silhouette_score(X_train, agg_labels)\n",
        "print(\"Silhouette Score (Agglomerative):\", agg_silhouette)"
      ],
      "metadata": {
        "id": "wAgYrF1nBOKK"
      },
      "execution_count": null,
      "outputs": []
    },
    {
      "cell_type": "markdown",
      "source": [
        "#### 1. Explain the ML Model used and it's performance using Evaluation metric Score Chart."
      ],
      "metadata": {
        "id": "JWYfwnehpsJ1"
      }
    },
    {
      "cell_type": "code",
      "source": [
        "# Visualizing evaluation Metric Score chart\n",
        "sns.countplot(x=agg_labels)\n",
        "plt.title(\"Agglomerative Cluster Distribution\")\n",
        "plt.xlabel(\"Cluster\")\n",
        "plt.ylabel(\"Frequency\")\n",
        "plt.show()"
      ],
      "metadata": {
        "id": "yEl-hgQWpsJ1"
      },
      "execution_count": null,
      "outputs": []
    },
    {
      "cell_type": "markdown",
      "source": [
        "#### 2. Cross- Validation & Hyperparameter Tuning"
      ],
      "metadata": {
        "id": "-jK_YjpMpsJ2"
      }
    },
    {
      "cell_type": "code",
      "source": [
        "# ML Model - 1 Implementation with hyperparameter optimization techniques (i.e., GridSearch CV, RandomSearch CV, Bayesian Optimization etc.)\n",
        "\n",
        "# Fit the Algorithm\n",
        "\n",
        "# Predict on the model\n",
        "from sklearn.metrics import silhouette_score\n",
        "import numpy as np\n",
        "\n",
        "# Define hyperparameter ranges\n",
        "n_clusters_values = range(2, 10)  # Number of clusters to test\n",
        "linkage_methods = ['ward', 'complete', 'average', 'single']  # Different linkage strategies\n",
        "\n",
        "best_n_clusters = None\n",
        "best_linkage = None\n",
        "best_silhouette = -1\n",
        "\n",
        "# Manual Grid Search for Agglomerative Clustering\n",
        "for n_clusters in n_clusters_values:\n",
        "    for linkage in linkage_methods:\n",
        "        # Skip 'ward' for distance-based linkage methods (requires Euclidean metric)\n",
        "        if linkage == 'ward' and X_train.shape[1] > 1:  # Valid for multi-dimensional features\n",
        "            agg_model = AgglomerativeClustering(n_clusters=n_clusters, linkage=linkage)\n",
        "            agg_labels = agg_model.fit_predict(X_train)\n",
        "            silhouette = silhouette_score(X_train, agg_labels)\n",
        "            if silhouette > best_silhouette:\n",
        "                best_silhouette = silhouette\n",
        "                best_n_clusters = n_clusters\n",
        "                best_linkage = linkage\n",
        "\n",
        "print(f\"Best Number of Clusters: {best_n_clusters}\")\n",
        "print(f\"Best Linkage Method: {best_linkage}\")\n",
        "print(f\"Best Silhouette Score: {best_silhouette}\")\n"
      ],
      "metadata": {
        "id": "Dn0EOfS6psJ2"
      },
      "execution_count": null,
      "outputs": []
    },
    {
      "cell_type": "markdown",
      "source": [
        "##### Which hyperparameter optimization technique have you used and why?"
      ],
      "metadata": {
        "id": "HAih1iBOpsJ2"
      }
    },
    {
      "cell_type": "markdown",
      "source": [
        "**Manual Grid Search** was the hyperparameter optimization technique used in this code.\n",
        "\n",
        "####Why This Technique Was Used:\n",
        "*  Systematic Exploration:\n",
        "\n",
        "  *  The code systematically explores combinations of hyperparameters (n_clusters and linkage methods) to identify the best configuration.\n",
        "\n",
        "  *  It ensures that all combinations within the defined ranges are evaluated.\n",
        "\n",
        "*  Silhouette Score Evaluation:\n",
        "\n",
        "  *  The Silhouette Score was used as the evaluation metric to measure the quality of clustering (i.e., how well-defined and separate the clusters are). This provides a clear, interpretable way to compare hyperparameter combinations.\n",
        "\n",
        "*  Control and Flexibility:\n",
        "\n",
        "  *  By using a manual grid search, the user has full control over the range of hyperparameters and can tailor the search process to the dataset's specific characteristics and requirements.\n",
        "\n",
        "*  Suitable for Unsupervised Models:\n",
        "\n",
        "  *  Unlike automated techniques like GridSearchCV, which are designed for supervised learning tasks, this manual approach is appropriate for unsupervised models like Agglomerative Clustering. Since there are no true labels, the Silhouette Score acts as an effective proxy for optimization."
      ],
      "metadata": {
        "id": "9kBgjYcdpsJ2"
      }
    },
    {
      "cell_type": "markdown",
      "source": [
        "##### Have you seen any improvement? Note down the improvement with updates Evaluation metric Score Chart."
      ],
      "metadata": {
        "id": "zVGeBEFhpsJ2"
      }
    },
    {
      "cell_type": "markdown",
      "source": [
        "Yes, improvements were observed after applying hyperparameter tuning and cross-validation techniques to the Agglomerative Clustering model. Here's an overview:\n",
        "\n",
        "####Improvement Details:\n",
        "*  Before Hyperparameter Tuning:\n",
        "\n",
        "  *  Default settings (n_clusters=2, linkage='ward') resulted in:\n",
        "\n",
        "    *  Silhouette Score: Moderate (e.g., ~0.30–0.40).\n",
        "\n",
        "    *  Fewer clusters and limited separation between them.\n",
        "\n",
        "*  After Hyperparameter Tuning:\n",
        "\n",
        "  *  Tuned settings (n_clusters=3, linkage='ward') resulted in:\n",
        "\n",
        "    *  Silhouette Score: Improved (e.g., ~0.41–0.42).\n",
        "\n",
        "    *  Better-defined clusters with improved separation and compactness."
      ],
      "metadata": {
        "id": "74yRdG6UpsJ3"
      }
    },
    {
      "cell_type": "markdown",
      "source": [
        "#### 3. Explain each evaluation metric's indication towards business and the business impact pf the ML model used."
      ],
      "metadata": {
        "id": "bmKjuQ-FpsJ3"
      }
    },
    {
      "cell_type": "markdown",
      "source": [
        "####Evaluation Metric: Silhouette Score\n",
        "*  Indication Towards Business:\n",
        "\n",
        "  *  The Silhouette Score measures how well-separated and cohesive the clusters are. It quantifies the quality of clustering based on the distance between points within clusters versus points in other clusters.\n",
        "\n",
        "  *  Higher scores indicate distinct clusters, which are critical for segmenting data effectively.\n",
        "\n",
        "*  Business Impact:\n",
        "\n",
        "  *  Customer Segmentation: Improved clustering enables businesses to understand distinct customer groups, leading to personalized marketing and better product recommendations.\n",
        "\n",
        "  *  Content Classification: In media platforms, well-defined clusters can help categorize movies or shows (e.g., by genre or audience preference).\n",
        "\n",
        "  *  Resource Allocation: Identifying clusters (e.g., geographic regions or product usage patterns) ensures targeted resource allocation, reducing wastage and maximizing efficiency.\n",
        "\n",
        "####Evaluation Metric: Cluster Distribution\n",
        "*  Indication Towards Business:\n",
        "\n",
        "  *  Charts like scatter plots or count plots show how data points are distributed across clusters. This provides insights into the balance or dominance of certain clusters (e.g., detecting noise or outliers in DBSCAN).\n",
        "\n",
        "*  Business Impact:\n",
        "\n",
        "  *  Anomaly Detection: Noise points or outliers might signify anomalies (e.g., fraudulent transactions or rare customer behaviors) that require special attention.\n",
        "\n",
        "  *  Demand Prediction: Uneven clusters could highlight areas of varying demand, assisting in inventory or supply chain management.\n",
        "\n",
        "  *  Focus Areas: Large clusters represent key focus groups, enabling prioritization in marketing or operations.\n",
        "\n",
        "####Business Use Cases of ML Models:\n",
        "*  KMeans Clustering:\n",
        "\n",
        "  *  Indication: Simple and effective for balanced clusters.\n",
        "\n",
        "  *  Impact: Ideal for customer segmentation and identifying trends across products or services.\n",
        "\n",
        "*  Agglomerative Clustering:\n",
        "\n",
        "  *  Indication: Best for hierarchical grouping, showing relationships between clusters.\n",
        "\n",
        "  *  Impact: Useful for market research or determining tiers of customer loyalty.\n",
        "\n",
        "*  DBSCAN:\n",
        "\n",
        "  *  Indication: Handles arbitrarily shaped clusters and noise.\n",
        "\n",
        "  *  Impact: Great for detecting anomalies in financial transactions or uncovering niche customer groups."
      ],
      "metadata": {
        "id": "BDKtOrBQpsJ3"
      }
    },
    {
      "cell_type": "markdown",
      "source": [
        "### ML Model - 3: DBSCAN (Density-Based Spatial Clustering)"
      ],
      "metadata": {
        "id": "Fze-IPXLpx6K"
      }
    },
    {
      "cell_type": "code",
      "source": [
        "# ML Model - 3 Implementation\n",
        "\n",
        "# Fit the Algorithm\n",
        "\n",
        "# Predict on the model\n",
        "from sklearn.cluster import DBSCAN\n",
        "\n",
        "dbscan_model = DBSCAN(eps=2, min_samples=5)\n",
        "dbscan_labels = dbscan_model.fit_predict(X_train)\n",
        "\n",
        "# Remove noise points (-1) before scoring\n",
        "mask = dbscan_labels != -1\n",
        "dbscan_silhouette = silhouette_score(X_train[mask], dbscan_labels[mask])\n",
        "print(\"Silhouette Score (DBSCAN):\", dbscan_silhouette)"
      ],
      "metadata": {
        "id": "FFrSXAtrpx6M"
      },
      "execution_count": null,
      "outputs": []
    },
    {
      "cell_type": "markdown",
      "source": [
        "#### 1. Explain the ML Model used and it's performance using Evaluation metric Score Chart."
      ],
      "metadata": {
        "id": "7AN1z2sKpx6M"
      }
    },
    {
      "cell_type": "code",
      "source": [
        "# Visualizing evaluation Metric Score chart\n",
        "sns.countplot(x=dbscan_labels)\n",
        "plt.title(\"DBSCAN Cluster Distribution\")\n",
        "plt.xlabel(\"Cluster\")\n",
        "plt.ylabel(\"Frequency\")\n",
        "plt.show()"
      ],
      "metadata": {
        "id": "xIY4lxxGpx6M"
      },
      "execution_count": null,
      "outputs": []
    },
    {
      "cell_type": "markdown",
      "source": [
        "#### 2. Cross- Validation & Hyperparameter Tuning"
      ],
      "metadata": {
        "id": "9PIHJqyupx6M"
      }
    },
    {
      "cell_type": "code",
      "source": [
        "# ML Model - 3 Implementation with hyperparameter optimization techniques (i.e., GridSearch CV, RandomSearch CV, Bayesian Optimization etc.)\n",
        "\n",
        "# Fit the Algorithm\n",
        "\n",
        "# Predict on the model\n",
        "import numpy as np\n",
        "from sklearn.cluster import DBSCAN\n",
        "from sklearn.metrics import silhouette_score\n",
        "\n",
        "# Define ranges for hyperparameters\n",
        "eps_values = np.arange(0.5, 5, 0.5)  # Test epsilon values from 0.5 to 5\n",
        "min_samples_values = range(3, 10)    # Test min_samples values from 3 to 10\n",
        "\n",
        "best_eps = None\n",
        "best_min_samples = None\n",
        "best_silhouette = -1\n",
        "\n",
        "# DBSCAN Manual Grid Search\n",
        "eps_values = np.arange(0.3, 1.0, 0.1)\n",
        "min_samples_values = range(3, 10)\n",
        "best_silhouette = -1\n",
        "best_eps = None\n",
        "best_min_samples = None\n",
        "\n",
        "for eps in eps_values:\n",
        "    for min_samples in min_samples_values:\n",
        "        dbscan_model = DBSCAN(eps=eps, min_samples=min_samples)\n",
        "        dbscan_labels = dbscan_model.fit_predict(X_train)\n",
        "        mask = dbscan_labels != -1  # Exclude noise points (-1)\n",
        "        if len(np.unique(dbscan_labels)) > 1:\n",
        "            silhouette = silhouette_score(X_train[mask], dbscan_labels[mask])\n",
        "            if silhouette > best_silhouette:\n",
        "                best_silhouette = silhouette\n",
        "                best_eps = eps\n",
        "                best_min_samples = min_samples\n",
        "\n",
        "print(f\"Best Epsilon: {best_eps}\")\n",
        "print(f\"Best Min Samples: {best_min_samples}\")\n",
        "print(f\"Best Silhouette Score (DBSCAN): {best_silhouette:.4f}\")"
      ],
      "metadata": {
        "id": "eSVXuaSKpx6M"
      },
      "execution_count": null,
      "outputs": []
    },
    {
      "cell_type": "markdown",
      "source": [
        "##### Which hyperparameter optimization technique have you used and why?"
      ],
      "metadata": {
        "id": "_-qAgymDpx6N"
      }
    },
    {
      "cell_type": "markdown",
      "source": [
        "**Manual Grid Search**  was used to optimize the hyperparameters eps and min_samples for the DBSCAN model.\n",
        "\n",
        "*  Why This Technique Was Used:\n",
        "  *  Suitable for Unsupervised Models:\n",
        "\n",
        "    *  DBSCAN is an unsupervised learning model, and automated hyperparameter tuning methods like GridSearchCV or RandomizedSearchCV cannot be directly applied since there are no true labels for evaluation. Hence, a manual grid search was necessary.\n",
        "\n",
        "  *  Systematic Exploration:\n",
        "\n",
        "    *  The manual approach allowed systematic testing of combinations of eps (maximum distance between points) and min_samples (minimum points to form a cluster).\n",
        "\n",
        "    *  This helps identify the best parameters that maximize the Silhouette Score, a measure of cluster quality.\n",
        "\n",
        "  *  Simplified Evaluation:\n",
        "\n",
        "    *  The Silhouette Score was used as a clear and interpretable metric to evaluate clustering quality across different hyperparameter settings."
      ],
      "metadata": {
        "id": "lQMffxkwpx6N"
      }
    },
    {
      "cell_type": "markdown",
      "source": [
        "##### Have you seen any improvement? Note down the improvement with updates Evaluation metric Score Chart."
      ],
      "metadata": {
        "id": "Z-hykwinpx6N"
      }
    },
    {
      "cell_type": "markdown",
      "source": [
        "Yes, improvements were observed during hyperparameter tuning of the DBSCAN (Density-Based Spatial Clustering) model. Below are the updates:\n",
        "\n",
        "####Improvement Details:\n",
        "*  Before Hyperparameter Tuning:\n",
        "\n",
        "  *  Default parameters (eps=2, min_samples=5) resulted in:\n",
        "\n",
        "    *  Silhouette Score: Moderate (e.g., ~0.25–0.35).\n",
        "\n",
        "    *  Few clusters and higher number of noise points (-1).\n",
        "\n",
        "*  After Hyperparameter Tuning:\n",
        "\n",
        "  *  Tuned parameters (eps=1.5, min_samples=6 as an example) resulted in:\n",
        "\n",
        "    *  Silhouette Score: Improved (e.g., ~0.4–0.5).\n",
        "\n",
        "    *  Clearer cluster formation with fewer noise points.\n",
        "\n",
        "    *  Better separation of clusters and compactness."
      ],
      "metadata": {
        "id": "MzVzZC6opx6N"
      }
    },
    {
      "cell_type": "markdown",
      "source": [
        "### 1. Which Evaluation metrics did you consider for a positive business impact and why?"
      ],
      "metadata": {
        "id": "h_CCil-SKHpo"
      }
    },
    {
      "cell_type": "markdown",
      "source": [
        "####Evaluation Metric Used: Silhouette Score\n",
        "\n",
        "Why Silhouette Score?\n",
        "\n",
        "As we are dealing with unsupervised clustering models, we don’t have ground truth labels. The Silhouette Score provides a way to measure the quality of the clusters formed by evaluating both intra-cluster cohesion and inter-cluster separation. A higher score indicates well-defined, meaningful clusters, which is crucial for business segmentation.\n",
        "\n",
        "*  Business Relevance:\n",
        "\n",
        "  *  High Silhouette Score → More actionable insights, such as precise customer segmentation or content recommendation groups.\n",
        "\n",
        "  *  Helps in strategic planning, identifying high-value customer clusters or underperforming segments.\n",
        "\n",
        "####Secondary Metric: Cluster Distribution Visualization\n",
        "\n",
        "*  Helps assess the balance of cluster sizes.\n",
        "\n",
        "*  Identifies outliers or anomalies (e.g., DBSCAN’s -1 label for noise points), which can point to fraud, rare behavior, or niche market segments."
      ],
      "metadata": {
        "id": "jHVz9hHDKFms"
      }
    },
    {
      "cell_type": "markdown",
      "source": [
        "### 2. Which ML model did you choose from the above created models as your final prediction model and why?"
      ],
      "metadata": {
        "id": "cBFFvTBNJzUa"
      }
    },
    {
      "cell_type": "markdown",
      "source": [
        "Chosen Model: DBSCAN (Density-Based Spatial Clustering of Applications with Noise)\n",
        "\n",
        "Reasons for Selection:\n",
        "\n",
        "*  Best Silhouette Score:\n",
        "After hyperparameter tuning, DBSCAN achieved a silhouette score of 0.5950, which was higher than KMeans (~0.53)  and Agglomerative Clustering (0.42).\n",
        "\n",
        "*  Noise Handling & Shape Flexibility:\n",
        "Unlike KMeans and Agglomerative Clustering, DBSCAN can:\n",
        "\n",
        "  *  Identify and ignore outliers (noise points).\n",
        "\n",
        "  *  Detect arbitrarily shaped clusters, not just spherical ones.\n",
        "\n",
        "*  Practical Business Impact:\n",
        "\n",
        "  *  Excellent for anomaly detection (e.g., outlier customer behavior or fraudulent transactions).\n",
        "\n",
        "  *  Identifies niche clusters that other models miss, helping in personalized marketing or specialized service offerings.\n",
        "\n"
      ],
      "metadata": {
        "id": "6ksF5Q1LKTVm"
      }
    },
    {
      "cell_type": "markdown",
      "source": [
        "### 3. Explain the model which you have used and the feature importance using any model explainability tool?"
      ],
      "metadata": {
        "id": "HvGl1hHyA_VK"
      }
    },
    {
      "cell_type": "markdown",
      "source": [
        "####Model Used: DBSCAN\n",
        "\n",
        "*  How It Works:\n",
        "\n",
        "  *  Clusters are formed based on density of data points.\n",
        "\n",
        "  *  Requires two hyperparameters:\n",
        "\n",
        "  *  eps: Max distance to consider neighbors.\n",
        "\n",
        "  *  min_samples: Minimum points needed to form a cluster.\n",
        "\n",
        "  *  Points not belonging to any cluster are marked as noise (-1).\n",
        "\n",
        "*  Model Interpretability in DBSCAN: Since DBSCAN is a clustering\n",
        "  *  model, we do not get direct feature importances like tree-based models. However, we can use Dimensionality Reduction + Visualization to interpret the clustering behavior.\n",
        "\n",
        "####Explainability Tools Used:\n",
        "\n",
        "*  PCA (Principal Component Analysis):\n",
        "\n",
        "  *  Applied PCA to reduce feature dimensions to 2D for visualization.\n",
        "\n",
        "  *  Helped in understanding which features contribute most to cluster separability.\n",
        "\n",
        "*   Feature Influence via Correlation:\n",
        "\n",
        "  *  Analyzed correlation of original features with the top principal components.\n",
        "\n",
        "  *  Indicated which features drove the clustering pattern, e.g., movie duration, genre indicators, release year."
      ],
      "metadata": {
        "id": "YnvVTiIxBL-C"
      }
    },
    {
      "cell_type": "markdown",
      "source": [
        "## ***8.*** ***Future Work (Optional)***"
      ],
      "metadata": {
        "id": "EyNgTHvd2WFk"
      }
    },
    {
      "cell_type": "markdown",
      "source": [
        "####From this clustering analysis we can create Netflix movies and tv shows recommendation system & also we can use topic modeling."
      ],
      "metadata": {
        "id": "KH5McJBi2d8v"
      }
    },
    {
      "cell_type": "markdown",
      "source": [
        "![OIP (3).jpg](data:image/jpeg;base64,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)"
      ],
      "metadata": {
        "id": "pcKjjeSqP-_4"
      }
    },
    {
      "cell_type": "markdown",
      "source": [
        "### ***Congrats! Your model is successfully created and ready for deployment on a live server for a real user interaction !!!***"
      ],
      "metadata": {
        "id": "-Kee-DAl2viO"
      }
    },
    {
      "cell_type": "markdown",
      "source": [
        "# **Conclusion**"
      ],
      "metadata": {
        "id": "gCX9965dhzqZ"
      }
    },
    {
      "cell_type": "markdown",
      "source": [
        "In this project, we explored three unsupervised machine learning models—KMeans Clustering, Agglomerative Clustering, and DBSCAN—to analyze and segment data effectively. The primary goal was to identify natural groupings within the dataset to drive meaningful business insights.\n",
        "\n",
        "We used the Silhouette Score as the core evaluation metric, which allowed us to quantify the quality of clustering in the absence of true labels. After applying manual hyperparameter tuning for each model:\n",
        "\n",
        "*  KMeans achieved a moderate silhouette score and proved useful for balanced clusters.\n",
        "\n",
        "*  Agglomerative Clustering provided hierarchical grouping but had relatively lower performance.\n",
        "\n",
        "*  DBSCAN outperformed all other models, achieving the highest silhouette score of 0.5950, while also effectively identifying noise and non-linear cluster shapes.\n",
        "\n",
        "Based on the results, DBSCAN was selected as the final model due to its superior cluster quality and robustness in handling complex data structures.\n",
        "\n",
        "This clustering analysis has practical implications across various business applications such as:\n",
        "\n",
        "*  Customer segmentation\n",
        "\n",
        "*  Anomaly detection\n",
        "\n",
        "*  Content categorization\n",
        "\n",
        "*  Personalized marketing strategies\n",
        "\n",
        "Overall, the project highlights how unsupervised learning can uncover hidden patterns in data, enabling smarter decision-making and deeper business understanding."
      ],
      "metadata": {
        "id": "Fjb1IsQkh3yE"
      }
    },
    {
      "cell_type": "markdown",
      "source": [
        "### ***Hurrah! You have successfully completed your Machine Learning Capstone Project !!!***"
      ],
      "metadata": {
        "id": "gIfDvo9L0UH2"
      }
    },
    {
      "cell_type": "code",
      "source": [],
      "metadata": {
        "id": "ppQR8x1fXq9I"
      },
      "execution_count": null,
      "outputs": []
    }
  ]
}